{
 "cells": [
  {
   "cell_type": "code",
   "execution_count": 1,
   "id": "79c4e488",
   "metadata": {
    "_cell_guid": "b1076dfc-b9ad-4769-8c92-a6c4dae69d19",
    "_uuid": "8f2839f25d086af736a60e9eeb907d3b93b6e0e5",
    "execution": {
     "iopub.execute_input": "2023-01-01T19:27:20.976847Z",
     "iopub.status.busy": "2023-01-01T19:27:20.976252Z",
     "iopub.status.idle": "2023-01-01T19:27:21.000514Z",
     "shell.execute_reply": "2023-01-01T19:27:20.998088Z"
    },
    "papermill": {
     "duration": 0.048181,
     "end_time": "2023-01-01T19:27:21.003981",
     "exception": false,
     "start_time": "2023-01-01T19:27:20.955800",
     "status": "completed"
    },
    "tags": []
   },
   "outputs": [
    {
     "name": "stdout",
     "output_type": "stream",
     "text": [
      "/kaggle/input/car-price-prediction/CarPrice_Assignment.csv\n",
      "/kaggle/input/car-price-prediction/Data Dictionary - carprices.xlsx\n"
     ]
    }
   ],
   "source": [
    "# This Python 3 environment comes with many helpful analytics libraries installed\n",
    "# It is defined by the kaggle/python Docker image: https://github.com/kaggle/docker-python\n",
    "# For example, here's several helpful packages to load\n",
    "\n",
    "import numpy as np # linear algebra\n",
    "import pandas as pd # data processing, CSV file I/O (e.g. pd.read_csv)\n",
    "\n",
    "# Input data files are available in the read-only \"../input/\" directory\n",
    "# For example, running this (by clicking run or pressing Shift+Enter) will list all files under the input directory\n",
    "\n",
    "import os\n",
    "for dirname, _, filenames in os.walk('/kaggle/input'):\n",
    "    for filename in filenames:\n",
    "        print(os.path.join(dirname, filename))\n",
    "\n",
    "# You can write up to 20GB to the current directory (/kaggle/working/) that gets preserved as output when you create a version using \"Save & Run All\" \n",
    "# You can also write temporary files to /kaggle/temp/, but they won't be saved outside of the current session"
   ]
  },
  {
   "cell_type": "code",
   "execution_count": 2,
   "id": "92e4aa71",
   "metadata": {
    "execution": {
     "iopub.execute_input": "2023-01-01T19:27:21.042436Z",
     "iopub.status.busy": "2023-01-01T19:27:21.041503Z",
     "iopub.status.idle": "2023-01-01T19:27:22.608634Z",
     "shell.execute_reply": "2023-01-01T19:27:22.607386Z"
    },
    "papermill": {
     "duration": 1.587575,
     "end_time": "2023-01-01T19:27:22.611394",
     "exception": false,
     "start_time": "2023-01-01T19:27:21.023819",
     "status": "completed"
    },
    "tags": []
   },
   "outputs": [],
   "source": [
    "import seaborn as sns\n",
    "import matplotlib.pyplot as plt\n",
    "from sklearn.preprocessing import OneHotEncoder,LabelEncoder\n",
    "from sklearn.metrics import r2_score,mean_absolute_error\n",
    "from sklearn.model_selection import cross_val_score,GridSearchCV,train_test_split\n",
    "\n",
    "from sklearn.linear_model import LinearRegression\n",
    "from sklearn.svm import SVR\n",
    "from xgboost import XGBRegressor"
   ]
  },
  {
   "attachments": {},
   "cell_type": "markdown",
   "id": "01e00853",
   "metadata": {
    "papermill": {
     "duration": 0.020009,
     "end_time": "2023-01-01T19:27:22.646053",
     "exception": false,
     "start_time": "2023-01-01T19:27:22.626044",
     "status": "completed"
    },
    "tags": []
   },
   "source": [
    "UNDERSTANDING THE DATA"
   ]
  },
  {
   "cell_type": "code",
   "execution_count": 3,
   "id": "35c31292",
   "metadata": {
    "execution": {
     "iopub.execute_input": "2023-01-01T19:27:22.682586Z",
     "iopub.status.busy": "2023-01-01T19:27:22.681827Z",
     "iopub.status.idle": "2023-01-01T19:27:22.749050Z",
     "shell.execute_reply": "2023-01-01T19:27:22.747274Z"
    },
    "papermill": {
     "duration": 0.090652,
     "end_time": "2023-01-01T19:27:22.752687",
     "exception": false,
     "start_time": "2023-01-01T19:27:22.662035",
     "status": "completed"
    },
    "tags": []
   },
   "outputs": [
    {
     "name": "stdout",
     "output_type": "stream",
     "text": [
      "(205, 26)\n"
     ]
    },
    {
     "data": {
      "text/html": [
       "<div>\n",
       "<style scoped>\n",
       "    .dataframe tbody tr th:only-of-type {\n",
       "        vertical-align: middle;\n",
       "    }\n",
       "\n",
       "    .dataframe tbody tr th {\n",
       "        vertical-align: top;\n",
       "    }\n",
       "\n",
       "    .dataframe thead th {\n",
       "        text-align: right;\n",
       "    }\n",
       "</style>\n",
       "<table border=\"1\" class=\"dataframe\">\n",
       "  <thead>\n",
       "    <tr style=\"text-align: right;\">\n",
       "      <th></th>\n",
       "      <th>car_ID</th>\n",
       "      <th>symboling</th>\n",
       "      <th>CarName</th>\n",
       "      <th>fueltype</th>\n",
       "      <th>aspiration</th>\n",
       "      <th>doornumber</th>\n",
       "      <th>carbody</th>\n",
       "      <th>drivewheel</th>\n",
       "      <th>enginelocation</th>\n",
       "      <th>wheelbase</th>\n",
       "      <th>carlength</th>\n",
       "      <th>carwidth</th>\n",
       "      <th>carheight</th>\n",
       "      <th>curbweight</th>\n",
       "      <th>enginetype</th>\n",
       "      <th>cylindernumber</th>\n",
       "      <th>enginesize</th>\n",
       "      <th>fuelsystem</th>\n",
       "      <th>boreratio</th>\n",
       "      <th>stroke</th>\n",
       "      <th>compressionratio</th>\n",
       "      <th>horsepower</th>\n",
       "      <th>peakrpm</th>\n",
       "      <th>citympg</th>\n",
       "      <th>highwaympg</th>\n",
       "      <th>price</th>\n",
       "    </tr>\n",
       "  </thead>\n",
       "  <tbody>\n",
       "    <tr>\n",
       "      <th>0</th>\n",
       "      <td>1</td>\n",
       "      <td>3</td>\n",
       "      <td>alfa-romero giulia</td>\n",
       "      <td>gas</td>\n",
       "      <td>std</td>\n",
       "      <td>two</td>\n",
       "      <td>convertible</td>\n",
       "      <td>rwd</td>\n",
       "      <td>front</td>\n",
       "      <td>88.6</td>\n",
       "      <td>168.8</td>\n",
       "      <td>64.1</td>\n",
       "      <td>48.8</td>\n",
       "      <td>2548</td>\n",
       "      <td>dohc</td>\n",
       "      <td>four</td>\n",
       "      <td>130</td>\n",
       "      <td>mpfi</td>\n",
       "      <td>3.47</td>\n",
       "      <td>2.68</td>\n",
       "      <td>9.0</td>\n",
       "      <td>111</td>\n",
       "      <td>5000</td>\n",
       "      <td>21</td>\n",
       "      <td>27</td>\n",
       "      <td>13495.0</td>\n",
       "    </tr>\n",
       "    <tr>\n",
       "      <th>1</th>\n",
       "      <td>2</td>\n",
       "      <td>3</td>\n",
       "      <td>alfa-romero stelvio</td>\n",
       "      <td>gas</td>\n",
       "      <td>std</td>\n",
       "      <td>two</td>\n",
       "      <td>convertible</td>\n",
       "      <td>rwd</td>\n",
       "      <td>front</td>\n",
       "      <td>88.6</td>\n",
       "      <td>168.8</td>\n",
       "      <td>64.1</td>\n",
       "      <td>48.8</td>\n",
       "      <td>2548</td>\n",
       "      <td>dohc</td>\n",
       "      <td>four</td>\n",
       "      <td>130</td>\n",
       "      <td>mpfi</td>\n",
       "      <td>3.47</td>\n",
       "      <td>2.68</td>\n",
       "      <td>9.0</td>\n",
       "      <td>111</td>\n",
       "      <td>5000</td>\n",
       "      <td>21</td>\n",
       "      <td>27</td>\n",
       "      <td>16500.0</td>\n",
       "    </tr>\n",
       "    <tr>\n",
       "      <th>2</th>\n",
       "      <td>3</td>\n",
       "      <td>1</td>\n",
       "      <td>alfa-romero Quadrifoglio</td>\n",
       "      <td>gas</td>\n",
       "      <td>std</td>\n",
       "      <td>two</td>\n",
       "      <td>hatchback</td>\n",
       "      <td>rwd</td>\n",
       "      <td>front</td>\n",
       "      <td>94.5</td>\n",
       "      <td>171.2</td>\n",
       "      <td>65.5</td>\n",
       "      <td>52.4</td>\n",
       "      <td>2823</td>\n",
       "      <td>ohcv</td>\n",
       "      <td>six</td>\n",
       "      <td>152</td>\n",
       "      <td>mpfi</td>\n",
       "      <td>2.68</td>\n",
       "      <td>3.47</td>\n",
       "      <td>9.0</td>\n",
       "      <td>154</td>\n",
       "      <td>5000</td>\n",
       "      <td>19</td>\n",
       "      <td>26</td>\n",
       "      <td>16500.0</td>\n",
       "    </tr>\n",
       "    <tr>\n",
       "      <th>3</th>\n",
       "      <td>4</td>\n",
       "      <td>2</td>\n",
       "      <td>audi 100 ls</td>\n",
       "      <td>gas</td>\n",
       "      <td>std</td>\n",
       "      <td>four</td>\n",
       "      <td>sedan</td>\n",
       "      <td>fwd</td>\n",
       "      <td>front</td>\n",
       "      <td>99.8</td>\n",
       "      <td>176.6</td>\n",
       "      <td>66.2</td>\n",
       "      <td>54.3</td>\n",
       "      <td>2337</td>\n",
       "      <td>ohc</td>\n",
       "      <td>four</td>\n",
       "      <td>109</td>\n",
       "      <td>mpfi</td>\n",
       "      <td>3.19</td>\n",
       "      <td>3.40</td>\n",
       "      <td>10.0</td>\n",
       "      <td>102</td>\n",
       "      <td>5500</td>\n",
       "      <td>24</td>\n",
       "      <td>30</td>\n",
       "      <td>13950.0</td>\n",
       "    </tr>\n",
       "    <tr>\n",
       "      <th>4</th>\n",
       "      <td>5</td>\n",
       "      <td>2</td>\n",
       "      <td>audi 100ls</td>\n",
       "      <td>gas</td>\n",
       "      <td>std</td>\n",
       "      <td>four</td>\n",
       "      <td>sedan</td>\n",
       "      <td>4wd</td>\n",
       "      <td>front</td>\n",
       "      <td>99.4</td>\n",
       "      <td>176.6</td>\n",
       "      <td>66.4</td>\n",
       "      <td>54.3</td>\n",
       "      <td>2824</td>\n",
       "      <td>ohc</td>\n",
       "      <td>five</td>\n",
       "      <td>136</td>\n",
       "      <td>mpfi</td>\n",
       "      <td>3.19</td>\n",
       "      <td>3.40</td>\n",
       "      <td>8.0</td>\n",
       "      <td>115</td>\n",
       "      <td>5500</td>\n",
       "      <td>18</td>\n",
       "      <td>22</td>\n",
       "      <td>17450.0</td>\n",
       "    </tr>\n",
       "  </tbody>\n",
       "</table>\n",
       "</div>"
      ],
      "text/plain": [
       "   car_ID  symboling                   CarName fueltype aspiration doornumber  \\\n",
       "0       1          3        alfa-romero giulia      gas        std        two   \n",
       "1       2          3       alfa-romero stelvio      gas        std        two   \n",
       "2       3          1  alfa-romero Quadrifoglio      gas        std        two   \n",
       "3       4          2               audi 100 ls      gas        std       four   \n",
       "4       5          2                audi 100ls      gas        std       four   \n",
       "\n",
       "       carbody drivewheel enginelocation  wheelbase  carlength  carwidth  \\\n",
       "0  convertible        rwd          front       88.6      168.8      64.1   \n",
       "1  convertible        rwd          front       88.6      168.8      64.1   \n",
       "2    hatchback        rwd          front       94.5      171.2      65.5   \n",
       "3        sedan        fwd          front       99.8      176.6      66.2   \n",
       "4        sedan        4wd          front       99.4      176.6      66.4   \n",
       "\n",
       "   carheight  curbweight enginetype cylindernumber  enginesize fuelsystem  \\\n",
       "0       48.8        2548       dohc           four         130       mpfi   \n",
       "1       48.8        2548       dohc           four         130       mpfi   \n",
       "2       52.4        2823       ohcv            six         152       mpfi   \n",
       "3       54.3        2337        ohc           four         109       mpfi   \n",
       "4       54.3        2824        ohc           five         136       mpfi   \n",
       "\n",
       "   boreratio  stroke  compressionratio  horsepower  peakrpm  citympg  \\\n",
       "0       3.47    2.68               9.0         111     5000       21   \n",
       "1       3.47    2.68               9.0         111     5000       21   \n",
       "2       2.68    3.47               9.0         154     5000       19   \n",
       "3       3.19    3.40              10.0         102     5500       24   \n",
       "4       3.19    3.40               8.0         115     5500       18   \n",
       "\n",
       "   highwaympg    price  \n",
       "0          27  13495.0  \n",
       "1          27  16500.0  \n",
       "2          26  16500.0  \n",
       "3          30  13950.0  \n",
       "4          22  17450.0  "
      ]
     },
     "execution_count": 3,
     "metadata": {},
     "output_type": "execute_result"
    }
   ],
   "source": [
    "df = pd.read_csv(\"/kaggle/input/car-price-prediction/CarPrice_Assignment.csv\")\n",
    "pd.set_option('display.max_columns', None)\n",
    "print(df.shape)\n",
    "df.head()"
   ]
  },
  {
   "cell_type": "code",
   "execution_count": 4,
   "id": "dd86d5c1",
   "metadata": {
    "execution": {
     "iopub.execute_input": "2023-01-01T19:27:22.786393Z",
     "iopub.status.busy": "2023-01-01T19:27:22.785966Z",
     "iopub.status.idle": "2023-01-01T19:27:22.796598Z",
     "shell.execute_reply": "2023-01-01T19:27:22.795187Z"
    },
    "papermill": {
     "duration": 0.030892,
     "end_time": "2023-01-01T19:27:22.799243",
     "exception": false,
     "start_time": "2023-01-01T19:27:22.768351",
     "status": "completed"
    },
    "tags": []
   },
   "outputs": [
    {
     "data": {
      "text/plain": [
       "0"
      ]
     },
     "execution_count": 4,
     "metadata": {},
     "output_type": "execute_result"
    }
   ],
   "source": [
    "df.isnull().sum().sum()"
   ]
  },
  {
   "cell_type": "code",
   "execution_count": 5,
   "id": "bda9b870",
   "metadata": {
    "execution": {
     "iopub.execute_input": "2023-01-01T19:27:22.831132Z",
     "iopub.status.busy": "2023-01-01T19:27:22.830700Z",
     "iopub.status.idle": "2023-01-01T19:27:22.843835Z",
     "shell.execute_reply": "2023-01-01T19:27:22.842306Z"
    },
    "papermill": {
     "duration": 0.032507,
     "end_time": "2023-01-01T19:27:22.846668",
     "exception": false,
     "start_time": "2023-01-01T19:27:22.814161",
     "status": "completed"
    },
    "tags": []
   },
   "outputs": [],
   "source": [
    "df.drop([\"car_ID\"],axis = 1,inplace = True)\n"
   ]
  },
  {
   "cell_type": "code",
   "execution_count": 6,
   "id": "fcf34171",
   "metadata": {
    "execution": {
     "iopub.execute_input": "2023-01-01T19:27:22.880426Z",
     "iopub.status.busy": "2023-01-01T19:27:22.879095Z",
     "iopub.status.idle": "2023-01-01T19:27:23.119347Z",
     "shell.execute_reply": "2023-01-01T19:27:23.117993Z"
    },
    "papermill": {
     "duration": 0.260897,
     "end_time": "2023-01-01T19:27:23.122581",
     "exception": false,
     "start_time": "2023-01-01T19:27:22.861684",
     "status": "completed"
    },
    "tags": []
   },
   "outputs": [
    {
     "data": {
      "text/plain": [
       "<AxesSubplot:xlabel='wheelbase'>"
      ]
     },
     "execution_count": 6,
     "metadata": {},
     "output_type": "execute_result"
    },
    {
     "data": {
      "image/png": "[encoded data removed]",
      "text/plain": [
       "<Figure size 432x288 with 1 Axes>"
      ]
     },
     "metadata": {
      "needs_background": "light"
     },
     "output_type": "display_data"
    }
   ],
   "source": [
    "import seaborn as sns\n",
    "sns.boxplot(x = df[\"wheelbase\"])"
   ]
  },
  {
   "cell_type": "code",
   "execution_count": 7,
   "id": "c8999aa8",
   "metadata": {
    "execution": {
     "iopub.execute_input": "2023-01-01T19:27:23.155325Z",
     "iopub.status.busy": "2023-01-01T19:27:23.154894Z",
     "iopub.status.idle": "2023-01-01T19:27:23.178068Z",
     "shell.execute_reply": "2023-01-01T19:27:23.176996Z"
    },
    "papermill": {
     "duration": 0.042044,
     "end_time": "2023-01-01T19:27:23.180329",
     "exception": false,
     "start_time": "2023-01-01T19:27:23.138285",
     "status": "completed"
    },
    "tags": []
   },
   "outputs": [
    {
     "name": "stdout",
     "output_type": "stream",
     "text": [
      "<class 'pandas.core.frame.DataFrame'>\n",
      "RangeIndex: 205 entries, 0 to 204\n",
      "Data columns (total 25 columns):\n",
      " #   Column            Non-Null Count  Dtype  \n",
      "---  ------            --------------  -----  \n",
      " 0   symboling         205 non-null    int64  \n",
      " 1   CarName           205 non-null    object \n",
      " 2   fueltype          205 non-null    object \n",
      " 3   aspiration        205 non-null    object \n",
      " 4   doornumber        205 non-null    object \n",
      " 5   carbody           205 non-null    object \n",
      " 6   drivewheel        205 non-null    object \n",
      " 7   enginelocation    205 non-null    object \n",
      " 8   wheelbase         205 non-null    float64\n",
      " 9   carlength         205 non-null    float64\n",
      " 10  carwidth          205 non-null    float64\n",
      " 11  carheight         205 non-null    float64\n",
      " 12  curbweight        205 non-null    int64  \n",
      " 13  enginetype        205 non-null    object \n",
      " 14  cylindernumber    205 non-null    object \n",
      " 15  enginesize        205 non-null    int64  \n",
      " 16  fuelsystem        205 non-null    object \n",
      " 17  boreratio         205 non-null    float64\n",
      " 18  stroke            205 non-null    float64\n",
      " 19  compressionratio  205 non-null    float64\n",
      " 20  horsepower        205 non-null    int64  \n",
      " 21  peakrpm           205 non-null    int64  \n",
      " 22  citympg           205 non-null    int64  \n",
      " 23  highwaympg        205 non-null    int64  \n",
      " 24  price             205 non-null    float64\n",
      "dtypes: float64(8), int64(7), object(10)\n",
      "memory usage: 40.2+ KB\n"
     ]
    }
   ],
   "source": [
    "df.info()\n",
    "\n",
    "\n",
    "\n",
    "#carSizes = []\n",
    "#for i in df.index:\n",
    "#    newSize= df.carlength * df.carheight * df.carwidth\n",
    "#    carSizes.append(newSize)\n",
    "#    \n",
    "#df.insert(2,\"carSize\",carSizes[i],True)\n",
    "#df.head()"
   ]
  },
  {
   "cell_type": "code",
   "execution_count": 8,
   "id": "41a90c46",
   "metadata": {
    "execution": {
     "iopub.execute_input": "2023-01-01T19:27:23.213181Z",
     "iopub.status.busy": "2023-01-01T19:27:23.212448Z",
     "iopub.status.idle": "2023-01-01T19:27:23.268636Z",
     "shell.execute_reply": "2023-01-01T19:27:23.267638Z"
    },
    "papermill": {
     "duration": 0.075574,
     "end_time": "2023-01-01T19:27:23.271240",
     "exception": false,
     "start_time": "2023-01-01T19:27:23.195666",
     "status": "completed"
    },
    "tags": []
   },
   "outputs": [
    {
     "data": {
      "text/html": [
       "<div>\n",
       "<style scoped>\n",
       "    .dataframe tbody tr th:only-of-type {\n",
       "        vertical-align: middle;\n",
       "    }\n",
       "\n",
       "    .dataframe tbody tr th {\n",
       "        vertical-align: top;\n",
       "    }\n",
       "\n",
       "    .dataframe thead th {\n",
       "        text-align: right;\n",
       "    }\n",
       "</style>\n",
       "<table border=\"1\" class=\"dataframe\">\n",
       "  <thead>\n",
       "    <tr style=\"text-align: right;\">\n",
       "      <th></th>\n",
       "      <th>count</th>\n",
       "      <th>mean</th>\n",
       "      <th>std</th>\n",
       "      <th>min</th>\n",
       "      <th>25%</th>\n",
       "      <th>50%</th>\n",
       "      <th>75%</th>\n",
       "      <th>max</th>\n",
       "    </tr>\n",
       "  </thead>\n",
       "  <tbody>\n",
       "    <tr>\n",
       "      <th>symboling</th>\n",
       "      <td>205.0</td>\n",
       "      <td>0.834146</td>\n",
       "      <td>1.245307</td>\n",
       "      <td>-2.00</td>\n",
       "      <td>0.00</td>\n",
       "      <td>1.00</td>\n",
       "      <td>2.00</td>\n",
       "      <td>3.00</td>\n",
       "    </tr>\n",
       "    <tr>\n",
       "      <th>wheelbase</th>\n",
       "      <td>205.0</td>\n",
       "      <td>98.756585</td>\n",
       "      <td>6.021776</td>\n",
       "      <td>86.60</td>\n",
       "      <td>94.50</td>\n",
       "      <td>97.00</td>\n",
       "      <td>102.40</td>\n",
       "      <td>120.90</td>\n",
       "    </tr>\n",
       "    <tr>\n",
       "      <th>carlength</th>\n",
       "      <td>205.0</td>\n",
       "      <td>174.049268</td>\n",
       "      <td>12.337289</td>\n",
       "      <td>141.10</td>\n",
       "      <td>166.30</td>\n",
       "      <td>173.20</td>\n",
       "      <td>183.10</td>\n",
       "      <td>208.10</td>\n",
       "    </tr>\n",
       "    <tr>\n",
       "      <th>carwidth</th>\n",
       "      <td>205.0</td>\n",
       "      <td>65.907805</td>\n",
       "      <td>2.145204</td>\n",
       "      <td>60.30</td>\n",
       "      <td>64.10</td>\n",
       "      <td>65.50</td>\n",
       "      <td>66.90</td>\n",
       "      <td>72.30</td>\n",
       "    </tr>\n",
       "    <tr>\n",
       "      <th>carheight</th>\n",
       "      <td>205.0</td>\n",
       "      <td>53.724878</td>\n",
       "      <td>2.443522</td>\n",
       "      <td>47.80</td>\n",
       "      <td>52.00</td>\n",
       "      <td>54.10</td>\n",
       "      <td>55.50</td>\n",
       "      <td>59.80</td>\n",
       "    </tr>\n",
       "    <tr>\n",
       "      <th>curbweight</th>\n",
       "      <td>205.0</td>\n",
       "      <td>2555.565854</td>\n",
       "      <td>520.680204</td>\n",
       "      <td>1488.00</td>\n",
       "      <td>2145.00</td>\n",
       "      <td>2414.00</td>\n",
       "      <td>2935.00</td>\n",
       "      <td>4066.00</td>\n",
       "    </tr>\n",
       "    <tr>\n",
       "      <th>enginesize</th>\n",
       "      <td>205.0</td>\n",
       "      <td>126.907317</td>\n",
       "      <td>41.642693</td>\n",
       "      <td>61.00</td>\n",
       "      <td>97.00</td>\n",
       "      <td>120.00</td>\n",
       "      <td>141.00</td>\n",
       "      <td>326.00</td>\n",
       "    </tr>\n",
       "    <tr>\n",
       "      <th>boreratio</th>\n",
       "      <td>205.0</td>\n",
       "      <td>3.329756</td>\n",
       "      <td>0.270844</td>\n",
       "      <td>2.54</td>\n",
       "      <td>3.15</td>\n",
       "      <td>3.31</td>\n",
       "      <td>3.58</td>\n",
       "      <td>3.94</td>\n",
       "    </tr>\n",
       "    <tr>\n",
       "      <th>stroke</th>\n",
       "      <td>205.0</td>\n",
       "      <td>3.255415</td>\n",
       "      <td>0.313597</td>\n",
       "      <td>2.07</td>\n",
       "      <td>3.11</td>\n",
       "      <td>3.29</td>\n",
       "      <td>3.41</td>\n",
       "      <td>4.17</td>\n",
       "    </tr>\n",
       "    <tr>\n",
       "      <th>compressionratio</th>\n",
       "      <td>205.0</td>\n",
       "      <td>10.142537</td>\n",
       "      <td>3.972040</td>\n",
       "      <td>7.00</td>\n",
       "      <td>8.60</td>\n",
       "      <td>9.00</td>\n",
       "      <td>9.40</td>\n",
       "      <td>23.00</td>\n",
       "    </tr>\n",
       "    <tr>\n",
       "      <th>horsepower</th>\n",
       "      <td>205.0</td>\n",
       "      <td>104.117073</td>\n",
       "      <td>39.544167</td>\n",
       "      <td>48.00</td>\n",
       "      <td>70.00</td>\n",
       "      <td>95.00</td>\n",
       "      <td>116.00</td>\n",
       "      <td>288.00</td>\n",
       "    </tr>\n",
       "    <tr>\n",
       "      <th>peakrpm</th>\n",
       "      <td>205.0</td>\n",
       "      <td>5125.121951</td>\n",
       "      <td>476.985643</td>\n",
       "      <td>4150.00</td>\n",
       "      <td>4800.00</td>\n",
       "      <td>5200.00</td>\n",
       "      <td>5500.00</td>\n",
       "      <td>6600.00</td>\n",
       "    </tr>\n",
       "    <tr>\n",
       "      <th>citympg</th>\n",
       "      <td>205.0</td>\n",
       "      <td>25.219512</td>\n",
       "      <td>6.542142</td>\n",
       "      <td>13.00</td>\n",
       "      <td>19.00</td>\n",
       "      <td>24.00</td>\n",
       "      <td>30.00</td>\n",
       "      <td>49.00</td>\n",
       "    </tr>\n",
       "    <tr>\n",
       "      <th>highwaympg</th>\n",
       "      <td>205.0</td>\n",
       "      <td>30.751220</td>\n",
       "      <td>6.886443</td>\n",
       "      <td>16.00</td>\n",
       "      <td>25.00</td>\n",
       "      <td>30.00</td>\n",
       "      <td>34.00</td>\n",
       "      <td>54.00</td>\n",
       "    </tr>\n",
       "    <tr>\n",
       "      <th>price</th>\n",
       "      <td>205.0</td>\n",
       "      <td>13276.710571</td>\n",
       "      <td>7988.852332</td>\n",
       "      <td>5118.00</td>\n",
       "      <td>7788.00</td>\n",
       "      <td>10295.00</td>\n",
       "      <td>16503.00</td>\n",
       "      <td>45400.00</td>\n",
       "    </tr>\n",
       "  </tbody>\n",
       "</table>\n",
       "</div>"
      ],
      "text/plain": [
       "                  count          mean          std      min      25%  \\\n",
       "symboling         205.0      0.834146     1.245307    -2.00     0.00   \n",
       "wheelbase         205.0     98.756585     6.021776    86.60    94.50   \n",
       "carlength         205.0    174.049268    12.337289   141.10   166.30   \n",
       "carwidth          205.0     65.907805     2.145204    60.30    64.10   \n",
       "carheight         205.0     53.724878     2.443522    47.80    52.00   \n",
       "curbweight        205.0   2555.565854   520.680204  1488.00  2145.00   \n",
       "enginesize        205.0    126.907317    41.642693    61.00    97.00   \n",
       "boreratio         205.0      3.329756     0.270844     2.54     3.15   \n",
       "stroke            205.0      3.255415     0.313597     2.07     3.11   \n",
       "compressionratio  205.0     10.142537     3.972040     7.00     8.60   \n",
       "horsepower        205.0    104.117073    39.544167    48.00    70.00   \n",
       "peakrpm           205.0   5125.121951   476.985643  4150.00  4800.00   \n",
       "citympg           205.0     25.219512     6.542142    13.00    19.00   \n",
       "highwaympg        205.0     30.751220     6.886443    16.00    25.00   \n",
       "price             205.0  13276.710571  7988.852332  5118.00  7788.00   \n",
       "\n",
       "                       50%       75%       max  \n",
       "symboling             1.00      2.00      3.00  \n",
       "wheelbase            97.00    102.40    120.90  \n",
       "carlength           173.20    183.10    208.10  \n",
       "carwidth             65.50     66.90     72.30  \n",
       "carheight            54.10     55.50     59.80  \n",
       "curbweight         2414.00   2935.00   4066.00  \n",
       "enginesize          120.00    141.00    326.00  \n",
       "boreratio             3.31      3.58      3.94  \n",
       "stroke                3.29      3.41      4.17  \n",
       "compressionratio      9.00      9.40     23.00  \n",
       "horsepower           95.00    116.00    288.00  \n",
       "peakrpm            5200.00   5500.00   6600.00  \n",
       "citympg              24.00     30.00     49.00  \n",
       "highwaympg           30.00     34.00     54.00  \n",
       "price             10295.00  16503.00  45400.00  "
      ]
     },
     "execution_count": 8,
     "metadata": {},
     "output_type": "execute_result"
    }
   ],
   "source": [
    "df.describe().T"
   ]
  },
  {
   "attachments": {},
   "cell_type": "markdown",
   "id": "5728a066",
   "metadata": {
    "papermill": {
     "duration": 0.015556,
     "end_time": "2023-01-01T19:27:23.302830",
     "exception": false,
     "start_time": "2023-01-01T19:27:23.287274",
     "status": "completed"
    },
    "tags": []
   },
   "source": [
    "PRICE EFFECTS OF SOME FEATURES"
   ]
  },
  {
   "cell_type": "code",
   "execution_count": 9,
   "id": "239bd539",
   "metadata": {
    "execution": {
     "iopub.execute_input": "2023-01-01T19:27:23.337494Z",
     "iopub.status.busy": "2023-01-01T19:27:23.336965Z",
     "iopub.status.idle": "2023-01-01T19:27:23.344089Z",
     "shell.execute_reply": "2023-01-01T19:27:23.342656Z"
    },
    "papermill": {
     "duration": 0.028124,
     "end_time": "2023-01-01T19:27:23.347008",
     "exception": false,
     "start_time": "2023-01-01T19:27:23.318884",
     "status": "completed"
    },
    "tags": []
   },
   "outputs": [],
   "source": [
    "def priceEffect(var):\n",
    "    print(\"          \")\n",
    "    print(\"{var}\".format(var = var))\n",
    "    print(\"          \")\n",
    "    sns.barplot(x = df[\"{var}\".format(var=var)],y =df[\"price\"],palette ='plasma')"
   ]
  },
  {
   "cell_type": "code",
   "execution_count": 10,
   "id": "975d2919",
   "metadata": {
    "execution": {
     "iopub.execute_input": "2023-01-01T19:27:23.381469Z",
     "iopub.status.busy": "2023-01-01T19:27:23.381028Z",
     "iopub.status.idle": "2023-01-01T19:27:23.771710Z",
     "shell.execute_reply": "2023-01-01T19:27:23.770672Z"
    },
    "papermill": {
     "duration": 0.410584,
     "end_time": "2023-01-01T19:27:23.774237",
     "exception": false,
     "start_time": "2023-01-01T19:27:23.363653",
     "status": "completed"
    },
    "tags": []
   },
   "outputs": [
    {
     "name": "stdout",
     "output_type": "stream",
     "text": [
      "          \n",
      "symboling\n",
      "          \n"
     ]
    },
    {
     "data": {
      "image/png": "[encoded data removed]",
      "text/plain": [
       "<Figure size 432x288 with 1 Axes>"
      ]
     },
     "metadata": {
      "needs_background": "light"
     },
     "output_type": "display_data"
    }
   ],
   "source": [
    "priceEffect(\"symboling\")"
   ]
  },
  {
   "cell_type": "code",
   "execution_count": 11,
   "id": "a793b1cd",
   "metadata": {
    "execution": {
     "iopub.execute_input": "2023-01-01T19:27:23.808428Z",
     "iopub.status.busy": "2023-01-01T19:27:23.807924Z",
     "iopub.status.idle": "2023-01-01T19:27:24.070234Z",
     "shell.execute_reply": "2023-01-01T19:27:24.068891Z"
    },
    "papermill": {
     "duration": 0.282615,
     "end_time": "2023-01-01T19:27:24.073007",
     "exception": false,
     "start_time": "2023-01-01T19:27:23.790392",
     "status": "completed"
    },
    "tags": []
   },
   "outputs": [
    {
     "name": "stdout",
     "output_type": "stream",
     "text": [
      "          \n",
      "aspiration\n",
      "          \n"
     ]
    },
    {
     "data": {
      "image/png": "[encoded data removed]",
      "text/plain": [
       "<Figure size 432x288 with 1 Axes>"
      ]
     },
     "metadata": {
      "needs_background": "light"
     },
     "output_type": "display_data"
    }
   ],
   "source": [
    "priceEffect(\"aspiration\")"
   ]
  },
  {
   "cell_type": "code",
   "execution_count": 12,
   "id": "79401b86",
   "metadata": {
    "execution": {
     "iopub.execute_input": "2023-01-01T19:27:24.107876Z",
     "iopub.status.busy": "2023-01-01T19:27:24.107450Z",
     "iopub.status.idle": "2023-01-01T19:27:24.356123Z",
     "shell.execute_reply": "2023-01-01T19:27:24.354842Z"
    },
    "papermill": {
     "duration": 0.269591,
     "end_time": "2023-01-01T19:27:24.359156",
     "exception": false,
     "start_time": "2023-01-01T19:27:24.089565",
     "status": "completed"
    },
    "tags": []
   },
   "outputs": [
    {
     "name": "stdout",
     "output_type": "stream",
     "text": [
      "          \n",
      "doornumber\n",
      "          \n"
     ]
    },
    {
     "data": {
      "image/png": "[encoded data removed]",
      "text/plain": [
       "<Figure size 432x288 with 1 Axes>"
      ]
     },
     "metadata": {
      "needs_background": "light"
     },
     "output_type": "display_data"
    }
   ],
   "source": [
    "priceEffect(\"doornumber\")"
   ]
  },
  {
   "cell_type": "code",
   "execution_count": 13,
   "id": "9c10a72f",
   "metadata": {
    "execution": {
     "iopub.execute_input": "2023-01-01T19:27:24.396436Z",
     "iopub.status.busy": "2023-01-01T19:27:24.395967Z",
     "iopub.status.idle": "2023-01-01T19:27:24.645368Z",
     "shell.execute_reply": "2023-01-01T19:27:24.644025Z"
    },
    "papermill": {
     "duration": 0.271757,
     "end_time": "2023-01-01T19:27:24.648404",
     "exception": false,
     "start_time": "2023-01-01T19:27:24.376647",
     "status": "completed"
    },
    "tags": []
   },
   "outputs": [
    {
     "name": "stdout",
     "output_type": "stream",
     "text": [
      "          \n",
      "aspiration\n",
      "          \n"
     ]
    },
    {
     "data": {
      "image/png": "[encoded data removed]",
      "text/plain": [
       "<Figure size 432x288 with 1 Axes>"
      ]
     },
     "metadata": {
      "needs_background": "light"
     },
     "output_type": "display_data"
    }
   ],
   "source": [
    "priceEffect(\"aspiration\")"
   ]
  },
  {
   "cell_type": "code",
   "execution_count": 14,
   "id": "c904911e",
   "metadata": {
    "execution": {
     "iopub.execute_input": "2023-01-01T19:27:24.685291Z",
     "iopub.status.busy": "2023-01-01T19:27:24.684343Z",
     "iopub.status.idle": "2023-01-01T19:27:25.034091Z",
     "shell.execute_reply": "2023-01-01T19:27:25.032740Z"
    },
    "papermill": {
     "duration": 0.371507,
     "end_time": "2023-01-01T19:27:25.036864",
     "exception": false,
     "start_time": "2023-01-01T19:27:24.665357",
     "status": "completed"
    },
    "tags": []
   },
   "outputs": [
    {
     "name": "stdout",
     "output_type": "stream",
     "text": [
      "          \n",
      "carbody\n",
      "          \n"
     ]
    },
    {
     "data": {
      "image/png": "[encoded data removed]",
      "text/plain": [
       "<Figure size 432x288 with 1 Axes>"
      ]
     },
     "metadata": {
      "needs_background": "light"
     },
     "output_type": "display_data"
    }
   ],
   "source": [
    "priceEffect(\"carbody\")"
   ]
  },
  {
   "cell_type": "code",
   "execution_count": 15,
   "id": "1d6725f1",
   "metadata": {
    "execution": {
     "iopub.execute_input": "2023-01-01T19:27:25.073597Z",
     "iopub.status.busy": "2023-01-01T19:27:25.073129Z",
     "iopub.status.idle": "2023-01-01T19:27:25.324724Z",
     "shell.execute_reply": "2023-01-01T19:27:25.323725Z"
    },
    "papermill": {
     "duration": 0.273265,
     "end_time": "2023-01-01T19:27:25.327353",
     "exception": false,
     "start_time": "2023-01-01T19:27:25.054088",
     "status": "completed"
    },
    "tags": []
   },
   "outputs": [
    {
     "name": "stdout",
     "output_type": "stream",
     "text": [
      "          \n",
      "drivewheel\n",
      "          \n"
     ]
    },
    {
     "data": {
      "image/png": "[encoded data removed]",
      "text/plain": [
       "<Figure size 432x288 with 1 Axes>"
      ]
     },
     "metadata": {
      "needs_background": "light"
     },
     "output_type": "display_data"
    }
   ],
   "source": [
    "priceEffect(\"drivewheel\")"
   ]
  },
  {
   "cell_type": "code",
   "execution_count": 16,
   "id": "e79abf84",
   "metadata": {
    "execution": {
     "iopub.execute_input": "2023-01-01T19:27:25.365118Z",
     "iopub.status.busy": "2023-01-01T19:27:25.364452Z",
     "iopub.status.idle": "2023-01-01T19:27:25.547352Z",
     "shell.execute_reply": "2023-01-01T19:27:25.546058Z"
    },
    "papermill": {
     "duration": 0.204502,
     "end_time": "2023-01-01T19:27:25.549874",
     "exception": false,
     "start_time": "2023-01-01T19:27:25.345372",
     "status": "completed"
    },
    "tags": []
   },
   "outputs": [
    {
     "name": "stdout",
     "output_type": "stream",
     "text": [
      "          \n",
      "enginelocation\n",
      "          \n"
     ]
    },
    {
     "data": {
      "image/png": "[encoded data removed]",
      "text/plain": [
       "<Figure size 432x288 with 1 Axes>"
      ]
     },
     "metadata": {
      "needs_background": "light"
     },
     "output_type": "display_data"
    }
   ],
   "source": [
    "priceEffect(\"enginelocation\")"
   ]
  },
  {
   "cell_type": "code",
   "execution_count": 17,
   "id": "2a03ed62",
   "metadata": {
    "execution": {
     "iopub.execute_input": "2023-01-01T19:27:25.588591Z",
     "iopub.status.busy": "2023-01-01T19:27:25.587362Z",
     "iopub.status.idle": "2023-01-01T19:27:26.782099Z",
     "shell.execute_reply": "2023-01-01T19:27:26.780700Z"
    },
    "papermill": {
     "duration": 1.218011,
     "end_time": "2023-01-01T19:27:26.785661",
     "exception": false,
     "start_time": "2023-01-01T19:27:25.567650",
     "status": "completed"
    },
    "tags": []
   },
   "outputs": [
    {
     "name": "stdout",
     "output_type": "stream",
     "text": [
      "          \n",
      "carwidth\n",
      "          \n"
     ]
    },
    {
     "data": {
      "image/png": "[encoded data removed]",
      "text/plain": [
       "<Figure size 432x288 with 1 Axes>"
      ]
     },
     "metadata": {
      "needs_background": "light"
     },
     "output_type": "display_data"
    }
   ],
   "source": [
    "priceEffect(\"carwidth\")"
   ]
  },
  {
   "cell_type": "code",
   "execution_count": 18,
   "id": "1bcdcfc7",
   "metadata": {
    "execution": {
     "iopub.execute_input": "2023-01-01T19:27:26.824289Z",
     "iopub.status.busy": "2023-01-01T19:27:26.823464Z",
     "iopub.status.idle": "2023-01-01T19:27:30.060627Z",
     "shell.execute_reply": "2023-01-01T19:27:30.059170Z"
    },
    "papermill": {
     "duration": 3.259704,
     "end_time": "2023-01-01T19:27:30.063530",
     "exception": false,
     "start_time": "2023-01-01T19:27:26.803826",
     "status": "completed"
    },
    "tags": []
   },
   "outputs": [
    {
     "name": "stdout",
     "output_type": "stream",
     "text": [
      "          \n",
      "curbweight\n",
      "          \n"
     ]
    },
    {
     "data": {
      "image/png": "[encoded data removed]",
      "text/plain": [
       "<Figure size 432x288 with 1 Axes>"
      ]
     },
     "metadata": {
      "needs_background": "light"
     },
     "output_type": "display_data"
    }
   ],
   "source": [
    "priceEffect(\"curbweight\")\n",
    "\n",
    "\n",
    "# EASILY UNDERSTAND THAT IF CAR MORE WIDE AND BIG ITS MORE EXPENSIVE"
   ]
  },
  {
   "cell_type": "code",
   "execution_count": 19,
   "id": "13e1023f",
   "metadata": {
    "execution": {
     "iopub.execute_input": "2023-01-01T19:27:30.102590Z",
     "iopub.status.busy": "2023-01-01T19:27:30.101784Z",
     "iopub.status.idle": "2023-01-01T19:27:30.475914Z",
     "shell.execute_reply": "2023-01-01T19:27:30.474655Z"
    },
    "papermill": {
     "duration": 0.396798,
     "end_time": "2023-01-01T19:27:30.478809",
     "exception": false,
     "start_time": "2023-01-01T19:27:30.082011",
     "status": "completed"
    },
    "tags": []
   },
   "outputs": [
    {
     "name": "stdout",
     "output_type": "stream",
     "text": [
      "          \n",
      "enginetype\n",
      "          \n"
     ]
    },
    {
     "data": {
      "image/png": "[encoded data removed]",
      "text/plain": [
       "<Figure size 432x288 with 1 Axes>"
      ]
     },
     "metadata": {
      "needs_background": "light"
     },
     "output_type": "display_data"
    }
   ],
   "source": [
    "priceEffect(\"enginetype\")"
   ]
  },
  {
   "cell_type": "code",
   "execution_count": 20,
   "id": "ad30069e",
   "metadata": {
    "execution": {
     "iopub.execute_input": "2023-01-01T19:27:30.519370Z",
     "iopub.status.busy": "2023-01-01T19:27:30.518524Z",
     "iopub.status.idle": "2023-01-01T19:27:31.779537Z",
     "shell.execute_reply": "2023-01-01T19:27:31.778375Z"
    },
    "papermill": {
     "duration": 1.284299,
     "end_time": "2023-01-01T19:27:31.782417",
     "exception": false,
     "start_time": "2023-01-01T19:27:30.498118",
     "status": "completed"
    },
    "tags": []
   },
   "outputs": [
    {
     "name": "stdout",
     "output_type": "stream",
     "text": [
      "          \n",
      "enginesize\n",
      "          \n"
     ]
    },
    {
     "data": {
      "image/png": "[encoded data removed]",
      "text/plain": [
       "<Figure size 432x288 with 1 Axes>"
      ]
     },
     "metadata": {
      "needs_background": "light"
     },
     "output_type": "display_data"
    }
   ],
   "source": [
    "priceEffect(\"enginesize\")"
   ]
  },
  {
   "cell_type": "code",
   "execution_count": 21,
   "id": "5174825b",
   "metadata": {
    "execution": {
     "iopub.execute_input": "2023-01-01T19:27:31.823610Z",
     "iopub.status.busy": "2023-01-01T19:27:31.822877Z",
     "iopub.status.idle": "2023-01-01T19:27:32.218955Z",
     "shell.execute_reply": "2023-01-01T19:27:32.217752Z"
    },
    "papermill": {
     "duration": 0.420635,
     "end_time": "2023-01-01T19:27:32.222067",
     "exception": false,
     "start_time": "2023-01-01T19:27:31.801432",
     "status": "completed"
    },
    "tags": []
   },
   "outputs": [
    {
     "name": "stdout",
     "output_type": "stream",
     "text": [
      "          \n",
      "fuelsystem\n",
      "          \n"
     ]
    },
    {
     "data": {
      "image/png": "[encoded data removed]",
      "text/plain": [
       "<Figure size 432x288 with 1 Axes>"
      ]
     },
     "metadata": {
      "needs_background": "light"
     },
     "output_type": "display_data"
    }
   ],
   "source": [
    "priceEffect(\"fuelsystem\")"
   ]
  },
  {
   "cell_type": "code",
   "execution_count": 22,
   "id": "00ac77d1",
   "metadata": {
    "execution": {
     "iopub.execute_input": "2023-01-01T19:27:32.263947Z",
     "iopub.status.busy": "2023-01-01T19:27:32.261986Z",
     "iopub.status.idle": "2023-01-01T19:27:33.471862Z",
     "shell.execute_reply": "2023-01-01T19:27:33.470903Z"
    },
    "papermill": {
     "duration": 1.233239,
     "end_time": "2023-01-01T19:27:33.474484",
     "exception": false,
     "start_time": "2023-01-01T19:27:32.241245",
     "status": "completed"
    },
    "tags": []
   },
   "outputs": [
    {
     "name": "stdout",
     "output_type": "stream",
     "text": [
      "          \n",
      "boreratio\n",
      "          \n"
     ]
    },
    {
     "data": {
      "image/png": "[encoded data removed]",
      "text/plain": [
       "<Figure size 432x288 with 1 Axes>"
      ]
     },
     "metadata": {
      "needs_background": "light"
     },
     "output_type": "display_data"
    }
   ],
   "source": [
    "priceEffect(\"boreratio\")"
   ]
  },
  {
   "cell_type": "code",
   "execution_count": 23,
   "id": "62cb3943",
   "metadata": {
    "execution": {
     "iopub.execute_input": "2023-01-01T19:27:33.517108Z",
     "iopub.status.busy": "2023-01-01T19:27:33.515702Z",
     "iopub.status.idle": "2023-01-01T19:27:34.729580Z",
     "shell.execute_reply": "2023-01-01T19:27:34.728308Z"
    },
    "papermill": {
     "duration": 1.237766,
     "end_time": "2023-01-01T19:27:34.732176",
     "exception": false,
     "start_time": "2023-01-01T19:27:33.494410",
     "status": "completed"
    },
    "tags": []
   },
   "outputs": [
    {
     "name": "stdout",
     "output_type": "stream",
     "text": [
      "          \n",
      "stroke\n",
      "          \n"
     ]
    },
    {
     "data": {
      "image/png": "[encoded data removed]",
      "text/plain": [
       "<Figure size 432x288 with 1 Axes>"
      ]
     },
     "metadata": {
      "needs_background": "light"
     },
     "output_type": "display_data"
    }
   ],
   "source": [
    "priceEffect(\"stroke\")"
   ]
  },
  {
   "cell_type": "code",
   "execution_count": 24,
   "id": "e4b84406",
   "metadata": {
    "execution": {
     "iopub.execute_input": "2023-01-01T19:27:34.775035Z",
     "iopub.status.busy": "2023-01-01T19:27:34.774347Z",
     "iopub.status.idle": "2023-01-01T19:27:35.924147Z",
     "shell.execute_reply": "2023-01-01T19:27:35.922821Z"
    },
    "papermill": {
     "duration": 1.174163,
     "end_time": "2023-01-01T19:27:35.926974",
     "exception": false,
     "start_time": "2023-01-01T19:27:34.752811",
     "status": "completed"
    },
    "tags": []
   },
   "outputs": [
    {
     "name": "stdout",
     "output_type": "stream",
     "text": [
      "          \n",
      "compressionratio\n",
      "          \n"
     ]
    },
    {
     "data": {
      "image/png": "[encoded data removed]",
      "text/plain": [
       "<Figure size 432x288 with 1 Axes>"
      ]
     },
     "metadata": {
      "needs_background": "light"
     },
     "output_type": "display_data"
    }
   ],
   "source": [
    "priceEffect(\"compressionratio\")"
   ]
  },
  {
   "cell_type": "code",
   "execution_count": 25,
   "id": "4837c281",
   "metadata": {
    "execution": {
     "iopub.execute_input": "2023-01-01T19:27:35.979689Z",
     "iopub.status.busy": "2023-01-01T19:27:35.979283Z",
     "iopub.status.idle": "2023-01-01T19:27:37.765614Z",
     "shell.execute_reply": "2023-01-01T19:27:37.764378Z"
    },
    "papermill": {
     "duration": 1.817994,
     "end_time": "2023-01-01T19:27:37.768953",
     "exception": false,
     "start_time": "2023-01-01T19:27:35.950959",
     "status": "completed"
    },
    "tags": []
   },
   "outputs": [
    {
     "name": "stdout",
     "output_type": "stream",
     "text": [
      "          \n",
      "horsepower\n",
      "          \n"
     ]
    },
    {
     "data": {
      "image/png": "[encoded data removed]",
      "text/plain": [
       "<Figure size 432x288 with 1 Axes>"
      ]
     },
     "metadata": {
      "needs_background": "light"
     },
     "output_type": "display_data"
    }
   ],
   "source": [
    "priceEffect(\"horsepower\")"
   ]
  },
  {
   "cell_type": "code",
   "execution_count": 26,
   "id": "4064b414",
   "metadata": {
    "execution": {
     "iopub.execute_input": "2023-01-01T19:27:37.814780Z",
     "iopub.status.busy": "2023-01-01T19:27:37.814378Z",
     "iopub.status.idle": "2023-01-01T19:27:38.590709Z",
     "shell.execute_reply": "2023-01-01T19:27:38.589416Z"
    },
    "papermill": {
     "duration": 0.802441,
     "end_time": "2023-01-01T19:27:38.593768",
     "exception": false,
     "start_time": "2023-01-01T19:27:37.791327",
     "status": "completed"
    },
    "tags": []
   },
   "outputs": [
    {
     "name": "stdout",
     "output_type": "stream",
     "text": [
      "          \n",
      "peakrpm\n",
      "          \n"
     ]
    },
    {
     "data": {
      "image/png": "[encoded data removed]",
      "text/plain": [
       "<Figure size 432x288 with 1 Axes>"
      ]
     },
     "metadata": {
      "needs_background": "light"
     },
     "output_type": "display_data"
    }
   ],
   "source": [
    "priceEffect(\"peakrpm\")"
   ]
  },
  {
   "cell_type": "code",
   "execution_count": 27,
   "id": "058f9a02",
   "metadata": {
    "execution": {
     "iopub.execute_input": "2023-01-01T19:27:38.638951Z",
     "iopub.status.busy": "2023-01-01T19:27:38.637858Z",
     "iopub.status.idle": "2023-01-01T19:27:39.484099Z",
     "shell.execute_reply": "2023-01-01T19:27:39.483268Z"
    },
    "papermill": {
     "duration": 0.871168,
     "end_time": "2023-01-01T19:27:39.486276",
     "exception": false,
     "start_time": "2023-01-01T19:27:38.615108",
     "status": "completed"
    },
    "tags": []
   },
   "outputs": [
    {
     "name": "stdout",
     "output_type": "stream",
     "text": [
      "          \n",
      "citympg\n",
      "          \n"
     ]
    },
    {
     "data": {
      "image/png": "[encoded data removed]",
      "text/plain": [
       "<Figure size 432x288 with 1 Axes>"
      ]
     },
     "metadata": {
      "needs_background": "light"
     },
     "output_type": "display_data"
    }
   ],
   "source": [
    "priceEffect(\"citympg\")"
   ]
  },
  {
   "cell_type": "code",
   "execution_count": 28,
   "id": "672963e7",
   "metadata": {
    "execution": {
     "iopub.execute_input": "2023-01-01T19:27:39.531473Z",
     "iopub.status.busy": "2023-01-01T19:27:39.531004Z",
     "iopub.status.idle": "2023-01-01T19:27:40.535332Z",
     "shell.execute_reply": "2023-01-01T19:27:40.534065Z"
    },
    "papermill": {
     "duration": 1.030463,
     "end_time": "2023-01-01T19:27:40.538256",
     "exception": false,
     "start_time": "2023-01-01T19:27:39.507793",
     "status": "completed"
    },
    "tags": []
   },
   "outputs": [
    {
     "name": "stdout",
     "output_type": "stream",
     "text": [
      "          \n",
      "highwaympg\n",
      "          \n"
     ]
    },
    {
     "data": {
      "image/png": "[encoded data removed]",
      "text/plain": [
       "<Figure size 432x288 with 1 Axes>"
      ]
     },
     "metadata": {
      "needs_background": "light"
     },
     "output_type": "display_data"
    }
   ],
   "source": [
    "priceEffect(\"highwaympg\")"
   ]
  },
  {
   "attachments": {},
   "cell_type": "markdown",
   "id": "fc0d72b2",
   "metadata": {
    "papermill": {
     "duration": 0.021499,
     "end_time": "2023-01-01T19:27:40.581658",
     "exception": false,
     "start_time": "2023-01-01T19:27:40.560159",
     "status": "completed"
    },
    "tags": []
   },
   "source": [
    "DATA PREPROCESSING"
   ]
  },
  {
   "cell_type": "code",
   "execution_count": 29,
   "id": "d193b02c",
   "metadata": {
    "execution": {
     "iopub.execute_input": "2023-01-01T19:27:40.628029Z",
     "iopub.status.busy": "2023-01-01T19:27:40.627249Z",
     "iopub.status.idle": "2023-01-01T19:27:40.639413Z",
     "shell.execute_reply": "2023-01-01T19:27:40.637928Z"
    },
    "papermill": {
     "duration": 0.04014,
     "end_time": "2023-01-01T19:27:40.643820",
     "exception": false,
     "start_time": "2023-01-01T19:27:40.603680",
     "status": "completed"
    },
    "tags": []
   },
   "outputs": [
    {
     "data": {
      "text/plain": [
       "0"
      ]
     },
     "execution_count": 29,
     "metadata": {},
     "output_type": "execute_result"
    }
   ],
   "source": [
    "df.isnull().sum().sum()"
   ]
  },
  {
   "cell_type": "code",
   "execution_count": 30,
   "id": "f014fca0",
   "metadata": {
    "execution": {
     "iopub.execute_input": "2023-01-01T19:27:40.692274Z",
     "iopub.status.busy": "2023-01-01T19:27:40.691237Z",
     "iopub.status.idle": "2023-01-01T19:27:40.698503Z",
     "shell.execute_reply": "2023-01-01T19:27:40.697271Z"
    },
    "papermill": {
     "duration": 0.034119,
     "end_time": "2023-01-01T19:27:40.700880",
     "exception": false,
     "start_time": "2023-01-01T19:27:40.666761",
     "status": "completed"
    },
    "tags": []
   },
   "outputs": [
    {
     "name": "stdout",
     "output_type": "stream",
     "text": [
      "symboling\n",
      "wheelbase\n",
      "carlength\n",
      "carwidth\n",
      "carheight\n",
      "curbweight\n",
      "enginesize\n",
      "boreratio\n",
      "stroke\n",
      "compressionratio\n",
      "horsepower\n",
      "peakrpm\n",
      "citympg\n",
      "highwaympg\n",
      "price\n"
     ]
    }
   ],
   "source": [
    "for i in df.columns:\n",
    "    if (df[i].dtype == \"int64\") or (df[i].dtype == \"float64\"):\n",
    "        print(i)"
   ]
  },
  {
   "cell_type": "code",
   "execution_count": 31,
   "id": "13e8f180",
   "metadata": {
    "execution": {
     "iopub.execute_input": "2023-01-01T19:27:40.747827Z",
     "iopub.status.busy": "2023-01-01T19:27:40.746904Z",
     "iopub.status.idle": "2023-01-01T19:27:40.931136Z",
     "shell.execute_reply": "2023-01-01T19:27:40.929805Z"
    },
    "papermill": {
     "duration": 0.210837,
     "end_time": "2023-01-01T19:27:40.933911",
     "exception": false,
     "start_time": "2023-01-01T19:27:40.723074",
     "status": "completed"
    },
    "tags": []
   },
   "outputs": [
    {
     "data": {
      "text/plain": [
       "<AxesSubplot:xlabel='symboling'>"
      ]
     },
     "execution_count": 31,
     "metadata": {},
     "output_type": "execute_result"
    },
    {
     "data": {
      "image/png": "[encoded data removed]",
      "text/plain": [
       "<Figure size 432x288 with 1 Axes>"
      ]
     },
     "metadata": {
      "needs_background": "light"
     },
     "output_type": "display_data"
    }
   ],
   "source": [
    "sns.boxplot(x = df[\"symboling\"])"
   ]
  },
  {
   "cell_type": "code",
   "execution_count": 32,
   "id": "7b6998bb",
   "metadata": {
    "execution": {
     "iopub.execute_input": "2023-01-01T19:27:40.981177Z",
     "iopub.status.busy": "2023-01-01T19:27:40.980791Z",
     "iopub.status.idle": "2023-01-01T19:27:41.177195Z",
     "shell.execute_reply": "2023-01-01T19:27:41.176300Z"
    },
    "papermill": {
     "duration": 0.222544,
     "end_time": "2023-01-01T19:27:41.179686",
     "exception": false,
     "start_time": "2023-01-01T19:27:40.957142",
     "status": "completed"
    },
    "tags": []
   },
   "outputs": [
    {
     "data": {
      "text/plain": [
       "<AxesSubplot:xlabel='wheelbase'>"
      ]
     },
     "execution_count": 32,
     "metadata": {},
     "output_type": "execute_result"
    },
    {
     "data": {
      "image/png": "[encoded data removed]",
      "text/plain": [
       "<Figure size 432x288 with 1 Axes>"
      ]
     },
     "metadata": {
      "needs_background": "light"
     },
     "output_type": "display_data"
    }
   ],
   "source": [
    "sns.boxplot(x = df[\"wheelbase\"])"
   ]
  },
  {
   "cell_type": "code",
   "execution_count": 33,
   "id": "dff1a920",
   "metadata": {
    "execution": {
     "iopub.execute_input": "2023-01-01T19:27:41.226682Z",
     "iopub.status.busy": "2023-01-01T19:27:41.226219Z",
     "iopub.status.idle": "2023-01-01T19:27:41.421776Z",
     "shell.execute_reply": "2023-01-01T19:27:41.420641Z"
    },
    "papermill": {
     "duration": 0.222576,
     "end_time": "2023-01-01T19:27:41.424580",
     "exception": false,
     "start_time": "2023-01-01T19:27:41.202004",
     "status": "completed"
    },
    "tags": []
   },
   "outputs": [
    {
     "data": {
      "text/plain": [
       "<AxesSubplot:xlabel='carlength'>"
      ]
     },
     "execution_count": 33,
     "metadata": {},
     "output_type": "execute_result"
    },
    {
     "data": {
      "image/png": "[encoded data removed]",
      "text/plain": [
       "<Figure size 432x288 with 1 Axes>"
      ]
     },
     "metadata": {
      "needs_background": "light"
     },
     "output_type": "display_data"
    }
   ],
   "source": [
    "sns.boxplot(x = df[\"carlength\"])"
   ]
  },
  {
   "cell_type": "code",
   "execution_count": 34,
   "id": "eab30bc2",
   "metadata": {
    "execution": {
     "iopub.execute_input": "2023-01-01T19:27:41.472968Z",
     "iopub.status.busy": "2023-01-01T19:27:41.472557Z",
     "iopub.status.idle": "2023-01-01T19:27:41.664898Z",
     "shell.execute_reply": "2023-01-01T19:27:41.663618Z"
    },
    "papermill": {
     "duration": 0.219623,
     "end_time": "2023-01-01T19:27:41.667645",
     "exception": false,
     "start_time": "2023-01-01T19:27:41.448022",
     "status": "completed"
    },
    "tags": []
   },
   "outputs": [
    {
     "data": {
      "text/plain": [
       "<AxesSubplot:xlabel='carwidth'>"
      ]
     },
     "execution_count": 34,
     "metadata": {},
     "output_type": "execute_result"
    },
    {
     "data": {
      "image/png": "[encoded data removed]",
      "text/plain": [
       "<Figure size 432x288 with 1 Axes>"
      ]
     },
     "metadata": {
      "needs_background": "light"
     },
     "output_type": "display_data"
    }
   ],
   "source": [
    "sns.boxplot(x = df[\"carwidth\"])"
   ]
  },
  {
   "cell_type": "code",
   "execution_count": 35,
   "id": "2a0b5f67",
   "metadata": {
    "execution": {
     "iopub.execute_input": "2023-01-01T19:27:41.717051Z",
     "iopub.status.busy": "2023-01-01T19:27:41.716073Z",
     "iopub.status.idle": "2023-01-01T19:27:41.909660Z",
     "shell.execute_reply": "2023-01-01T19:27:41.908287Z"
    },
    "papermill": {
     "duration": 0.221034,
     "end_time": "2023-01-01T19:27:41.912170",
     "exception": false,
     "start_time": "2023-01-01T19:27:41.691136",
     "status": "completed"
    },
    "tags": []
   },
   "outputs": [
    {
     "data": {
      "text/plain": [
       "<AxesSubplot:xlabel='carheight'>"
      ]
     },
     "execution_count": 35,
     "metadata": {},
     "output_type": "execute_result"
    },
    {
     "data": {
      "image/png": "[encoded data removed]",
      "text/plain": [
       "<Figure size 432x288 with 1 Axes>"
      ]
     },
     "metadata": {
      "needs_background": "light"
     },
     "output_type": "display_data"
    }
   ],
   "source": [
    "sns.boxplot(x = df[\"carheight\"])"
   ]
  },
  {
   "cell_type": "code",
   "execution_count": 36,
   "id": "3f37f004",
   "metadata": {
    "execution": {
     "iopub.execute_input": "2023-01-01T19:27:41.963156Z",
     "iopub.status.busy": "2023-01-01T19:27:41.961845Z",
     "iopub.status.idle": "2023-01-01T19:27:42.145619Z",
     "shell.execute_reply": "2023-01-01T19:27:42.144568Z"
    },
    "papermill": {
     "duration": 0.211872,
     "end_time": "2023-01-01T19:27:42.148223",
     "exception": false,
     "start_time": "2023-01-01T19:27:41.936351",
     "status": "completed"
    },
    "tags": []
   },
   "outputs": [
    {
     "data": {
      "text/plain": [
       "<AxesSubplot:xlabel='curbweight'>"
      ]
     },
     "execution_count": 36,
     "metadata": {},
     "output_type": "execute_result"
    },
    {
     "data": {
      "image/png": "[encoded data removed]",
      "text/plain": [
       "<Figure size 432x288 with 1 Axes>"
      ]
     },
     "metadata": {
      "needs_background": "light"
     },
     "output_type": "display_data"
    }
   ],
   "source": [
    "sns.boxplot(x = df[\"curbweight\"])"
   ]
  },
  {
   "cell_type": "code",
   "execution_count": 37,
   "id": "934165db",
   "metadata": {
    "execution": {
     "iopub.execute_input": "2023-01-01T19:27:42.199339Z",
     "iopub.status.busy": "2023-01-01T19:27:42.198443Z",
     "iopub.status.idle": "2023-01-01T19:27:42.388293Z",
     "shell.execute_reply": "2023-01-01T19:27:42.387057Z"
    },
    "papermill": {
     "duration": 0.218924,
     "end_time": "2023-01-01T19:27:42.390973",
     "exception": false,
     "start_time": "2023-01-01T19:27:42.172049",
     "status": "completed"
    },
    "tags": []
   },
   "outputs": [
    {
     "data": {
      "text/plain": [
       "<AxesSubplot:xlabel='enginesize'>"
      ]
     },
     "execution_count": 37,
     "metadata": {},
     "output_type": "execute_result"
    },
    {
     "data": {
      "image/png": "[encoded data removed]",
      "text/plain": [
       "<Figure size 432x288 with 1 Axes>"
      ]
     },
     "metadata": {
      "needs_background": "light"
     },
     "output_type": "display_data"
    }
   ],
   "source": [
    "sns.boxplot(x = df[\"enginesize\"])"
   ]
  },
  {
   "cell_type": "code",
   "execution_count": 38,
   "id": "6bc6d9ed",
   "metadata": {
    "execution": {
     "iopub.execute_input": "2023-01-01T19:27:42.441623Z",
     "iopub.status.busy": "2023-01-01T19:27:42.441189Z",
     "iopub.status.idle": "2023-01-01T19:27:42.639772Z",
     "shell.execute_reply": "2023-01-01T19:27:42.638506Z"
    },
    "papermill": {
     "duration": 0.227512,
     "end_time": "2023-01-01T19:27:42.642731",
     "exception": false,
     "start_time": "2023-01-01T19:27:42.415219",
     "status": "completed"
    },
    "tags": []
   },
   "outputs": [
    {
     "data": {
      "text/plain": [
       "<AxesSubplot:xlabel='boreratio'>"
      ]
     },
     "execution_count": 38,
     "metadata": {},
     "output_type": "execute_result"
    },
    {
     "data": {
      "image/png": "[encoded data removed]",
      "text/plain": [
       "<Figure size 432x288 with 1 Axes>"
      ]
     },
     "metadata": {
      "needs_background": "light"
     },
     "output_type": "display_data"
    }
   ],
   "source": [
    "sns.boxplot(x = df[\"boreratio\"])"
   ]
  },
  {
   "cell_type": "code",
   "execution_count": 39,
   "id": "62f79862",
   "metadata": {
    "execution": {
     "iopub.execute_input": "2023-01-01T19:27:42.696220Z",
     "iopub.status.busy": "2023-01-01T19:27:42.695736Z",
     "iopub.status.idle": "2023-01-01T19:27:42.887225Z",
     "shell.execute_reply": "2023-01-01T19:27:42.886178Z"
    },
    "papermill": {
     "duration": 0.222282,
     "end_time": "2023-01-01T19:27:42.889765",
     "exception": false,
     "start_time": "2023-01-01T19:27:42.667483",
     "status": "completed"
    },
    "tags": []
   },
   "outputs": [
    {
     "data": {
      "text/plain": [
       "<AxesSubplot:xlabel='stroke'>"
      ]
     },
     "execution_count": 39,
     "metadata": {},
     "output_type": "execute_result"
    },
    {
     "data": {
      "image/png": "[encoded data removed]",
      "text/plain": [
       "<Figure size 432x288 with 1 Axes>"
      ]
     },
     "metadata": {
      "needs_background": "light"
     },
     "output_type": "display_data"
    }
   ],
   "source": [
    "sns.boxplot(x = df[\"stroke\"])"
   ]
  },
  {
   "cell_type": "code",
   "execution_count": 40,
   "id": "cb3c4fbe",
   "metadata": {
    "execution": {
     "iopub.execute_input": "2023-01-01T19:27:42.946462Z",
     "iopub.status.busy": "2023-01-01T19:27:42.945725Z",
     "iopub.status.idle": "2023-01-01T19:27:43.311694Z",
     "shell.execute_reply": "2023-01-01T19:27:43.310320Z"
    },
    "papermill": {
     "duration": 0.396942,
     "end_time": "2023-01-01T19:27:43.314542",
     "exception": false,
     "start_time": "2023-01-01T19:27:42.917600",
     "status": "completed"
    },
    "tags": []
   },
   "outputs": [
    {
     "data": {
      "text/plain": [
       "<AxesSubplot:xlabel='compressionratio'>"
      ]
     },
     "execution_count": 40,
     "metadata": {},
     "output_type": "execute_result"
    },
    {
     "data": {
      "image/png": "[encoded data removed]",
      "text/plain": [
       "<Figure size 432x288 with 1 Axes>"
      ]
     },
     "metadata": {
      "needs_background": "light"
     },
     "output_type": "display_data"
    }
   ],
   "source": [
    "sns.boxplot(x = df[\"compressionratio\"])\n",
    "\n",
    "# ITS REALLY INTERESTING THAT HAVE ANORMAL COMPRESSION RATIOS"
   ]
  },
  {
   "cell_type": "code",
   "execution_count": 41,
   "id": "329091d3",
   "metadata": {
    "execution": {
     "iopub.execute_input": "2023-01-01T19:27:43.368150Z",
     "iopub.status.busy": "2023-01-01T19:27:43.367687Z",
     "iopub.status.idle": "2023-01-01T19:27:43.416533Z",
     "shell.execute_reply": "2023-01-01T19:27:43.415276Z"
    },
    "papermill": {
     "duration": 0.079573,
     "end_time": "2023-01-01T19:27:43.418939",
     "exception": false,
     "start_time": "2023-01-01T19:27:43.339366",
     "status": "completed"
    },
    "tags": []
   },
   "outputs": [
    {
     "name": "stdout",
     "output_type": "stream",
     "text": [
      "10.142536585365855\n",
      "11.5\n",
      "22.7\n",
      "22.0\n",
      "21.5\n",
      "21.5\n",
      "21.5\n",
      "21.5\n",
      "21.9\n",
      "21.0\n",
      "21.0\n",
      "21.0\n",
      "21.0\n",
      "21.0\n",
      "22.5\n",
      "22.5\n",
      "22.5\n",
      "23.0\n",
      "23.0\n",
      "23.0\n",
      "23.0\n",
      "23.0\n"
     ]
    },
    {
     "data": {
      "text/html": [
       "<div>\n",
       "<style scoped>\n",
       "    .dataframe tbody tr th:only-of-type {\n",
       "        vertical-align: middle;\n",
       "    }\n",
       "\n",
       "    .dataframe tbody tr th {\n",
       "        vertical-align: top;\n",
       "    }\n",
       "\n",
       "    .dataframe thead th {\n",
       "        text-align: right;\n",
       "    }\n",
       "</style>\n",
       "<table border=\"1\" class=\"dataframe\">\n",
       "  <thead>\n",
       "    <tr style=\"text-align: right;\">\n",
       "      <th></th>\n",
       "      <th>symboling</th>\n",
       "      <th>CarName</th>\n",
       "      <th>fueltype</th>\n",
       "      <th>aspiration</th>\n",
       "      <th>doornumber</th>\n",
       "      <th>carbody</th>\n",
       "      <th>drivewheel</th>\n",
       "      <th>enginelocation</th>\n",
       "      <th>wheelbase</th>\n",
       "      <th>carlength</th>\n",
       "      <th>carwidth</th>\n",
       "      <th>carheight</th>\n",
       "      <th>curbweight</th>\n",
       "      <th>enginetype</th>\n",
       "      <th>cylindernumber</th>\n",
       "      <th>enginesize</th>\n",
       "      <th>fuelsystem</th>\n",
       "      <th>boreratio</th>\n",
       "      <th>stroke</th>\n",
       "      <th>compressionratio</th>\n",
       "      <th>horsepower</th>\n",
       "      <th>peakrpm</th>\n",
       "      <th>citympg</th>\n",
       "      <th>highwaympg</th>\n",
       "      <th>price</th>\n",
       "    </tr>\n",
       "  </thead>\n",
       "  <tbody>\n",
       "    <tr>\n",
       "      <th>49</th>\n",
       "      <td>0</td>\n",
       "      <td>jaguar xk</td>\n",
       "      <td>gas</td>\n",
       "      <td>std</td>\n",
       "      <td>two</td>\n",
       "      <td>sedan</td>\n",
       "      <td>rwd</td>\n",
       "      <td>front</td>\n",
       "      <td>102.0</td>\n",
       "      <td>191.7</td>\n",
       "      <td>70.6</td>\n",
       "      <td>47.8</td>\n",
       "      <td>3950</td>\n",
       "      <td>ohcv</td>\n",
       "      <td>twelve</td>\n",
       "      <td>326</td>\n",
       "      <td>mpfi</td>\n",
       "      <td>3.54</td>\n",
       "      <td>2.76</td>\n",
       "      <td>11.5</td>\n",
       "      <td>262</td>\n",
       "      <td>5000</td>\n",
       "      <td>13</td>\n",
       "      <td>17</td>\n",
       "      <td>36000.0</td>\n",
       "    </tr>\n",
       "    <tr>\n",
       "      <th>63</th>\n",
       "      <td>0</td>\n",
       "      <td>mazda glc deluxe</td>\n",
       "      <td>diesel</td>\n",
       "      <td>std</td>\n",
       "      <td>four</td>\n",
       "      <td>sedan</td>\n",
       "      <td>fwd</td>\n",
       "      <td>front</td>\n",
       "      <td>98.8</td>\n",
       "      <td>177.8</td>\n",
       "      <td>66.5</td>\n",
       "      <td>55.5</td>\n",
       "      <td>2443</td>\n",
       "      <td>ohc</td>\n",
       "      <td>four</td>\n",
       "      <td>122</td>\n",
       "      <td>idi</td>\n",
       "      <td>3.39</td>\n",
       "      <td>3.39</td>\n",
       "      <td>22.7</td>\n",
       "      <td>64</td>\n",
       "      <td>4650</td>\n",
       "      <td>36</td>\n",
       "      <td>42</td>\n",
       "      <td>10795.0</td>\n",
       "    </tr>\n",
       "    <tr>\n",
       "      <th>66</th>\n",
       "      <td>0</td>\n",
       "      <td>mazda rx-7 gs</td>\n",
       "      <td>diesel</td>\n",
       "      <td>std</td>\n",
       "      <td>four</td>\n",
       "      <td>sedan</td>\n",
       "      <td>rwd</td>\n",
       "      <td>front</td>\n",
       "      <td>104.9</td>\n",
       "      <td>175.0</td>\n",
       "      <td>66.1</td>\n",
       "      <td>54.4</td>\n",
       "      <td>2700</td>\n",
       "      <td>ohc</td>\n",
       "      <td>four</td>\n",
       "      <td>134</td>\n",
       "      <td>idi</td>\n",
       "      <td>3.43</td>\n",
       "      <td>3.64</td>\n",
       "      <td>22.0</td>\n",
       "      <td>72</td>\n",
       "      <td>4200</td>\n",
       "      <td>31</td>\n",
       "      <td>39</td>\n",
       "      <td>18344.0</td>\n",
       "    </tr>\n",
       "    <tr>\n",
       "      <th>67</th>\n",
       "      <td>-1</td>\n",
       "      <td>buick electra 225 custom</td>\n",
       "      <td>diesel</td>\n",
       "      <td>turbo</td>\n",
       "      <td>four</td>\n",
       "      <td>sedan</td>\n",
       "      <td>rwd</td>\n",
       "      <td>front</td>\n",
       "      <td>110.0</td>\n",
       "      <td>190.9</td>\n",
       "      <td>70.3</td>\n",
       "      <td>56.5</td>\n",
       "      <td>3515</td>\n",
       "      <td>ohc</td>\n",
       "      <td>five</td>\n",
       "      <td>183</td>\n",
       "      <td>idi</td>\n",
       "      <td>3.58</td>\n",
       "      <td>3.64</td>\n",
       "      <td>21.5</td>\n",
       "      <td>123</td>\n",
       "      <td>4350</td>\n",
       "      <td>22</td>\n",
       "      <td>25</td>\n",
       "      <td>25552.0</td>\n",
       "    </tr>\n",
       "    <tr>\n",
       "      <th>68</th>\n",
       "      <td>-1</td>\n",
       "      <td>buick century luxus (sw)</td>\n",
       "      <td>diesel</td>\n",
       "      <td>turbo</td>\n",
       "      <td>four</td>\n",
       "      <td>wagon</td>\n",
       "      <td>rwd</td>\n",
       "      <td>front</td>\n",
       "      <td>110.0</td>\n",
       "      <td>190.9</td>\n",
       "      <td>70.3</td>\n",
       "      <td>58.7</td>\n",
       "      <td>3750</td>\n",
       "      <td>ohc</td>\n",
       "      <td>five</td>\n",
       "      <td>183</td>\n",
       "      <td>idi</td>\n",
       "      <td>3.58</td>\n",
       "      <td>3.64</td>\n",
       "      <td>21.5</td>\n",
       "      <td>123</td>\n",
       "      <td>4350</td>\n",
       "      <td>22</td>\n",
       "      <td>25</td>\n",
       "      <td>28248.0</td>\n",
       "    </tr>\n",
       "    <tr>\n",
       "      <th>69</th>\n",
       "      <td>0</td>\n",
       "      <td>buick century</td>\n",
       "      <td>diesel</td>\n",
       "      <td>turbo</td>\n",
       "      <td>two</td>\n",
       "      <td>hardtop</td>\n",
       "      <td>rwd</td>\n",
       "      <td>front</td>\n",
       "      <td>106.7</td>\n",
       "      <td>187.5</td>\n",
       "      <td>70.3</td>\n",
       "      <td>54.9</td>\n",
       "      <td>3495</td>\n",
       "      <td>ohc</td>\n",
       "      <td>five</td>\n",
       "      <td>183</td>\n",
       "      <td>idi</td>\n",
       "      <td>3.58</td>\n",
       "      <td>3.64</td>\n",
       "      <td>21.5</td>\n",
       "      <td>123</td>\n",
       "      <td>4350</td>\n",
       "      <td>22</td>\n",
       "      <td>25</td>\n",
       "      <td>28176.0</td>\n",
       "    </tr>\n",
       "    <tr>\n",
       "      <th>70</th>\n",
       "      <td>-1</td>\n",
       "      <td>buick skyhawk</td>\n",
       "      <td>diesel</td>\n",
       "      <td>turbo</td>\n",
       "      <td>four</td>\n",
       "      <td>sedan</td>\n",
       "      <td>rwd</td>\n",
       "      <td>front</td>\n",
       "      <td>115.6</td>\n",
       "      <td>202.6</td>\n",
       "      <td>71.7</td>\n",
       "      <td>56.3</td>\n",
       "      <td>3770</td>\n",
       "      <td>ohc</td>\n",
       "      <td>five</td>\n",
       "      <td>183</td>\n",
       "      <td>idi</td>\n",
       "      <td>3.58</td>\n",
       "      <td>3.64</td>\n",
       "      <td>21.5</td>\n",
       "      <td>123</td>\n",
       "      <td>4350</td>\n",
       "      <td>22</td>\n",
       "      <td>25</td>\n",
       "      <td>31600.0</td>\n",
       "    </tr>\n",
       "    <tr>\n",
       "      <th>90</th>\n",
       "      <td>1</td>\n",
       "      <td>nissan gt-r</td>\n",
       "      <td>diesel</td>\n",
       "      <td>std</td>\n",
       "      <td>two</td>\n",
       "      <td>sedan</td>\n",
       "      <td>fwd</td>\n",
       "      <td>front</td>\n",
       "      <td>94.5</td>\n",
       "      <td>165.3</td>\n",
       "      <td>63.8</td>\n",
       "      <td>54.5</td>\n",
       "      <td>2017</td>\n",
       "      <td>ohc</td>\n",
       "      <td>four</td>\n",
       "      <td>103</td>\n",
       "      <td>idi</td>\n",
       "      <td>2.99</td>\n",
       "      <td>3.47</td>\n",
       "      <td>21.9</td>\n",
       "      <td>55</td>\n",
       "      <td>4800</td>\n",
       "      <td>45</td>\n",
       "      <td>50</td>\n",
       "      <td>7099.0</td>\n",
       "    </tr>\n",
       "    <tr>\n",
       "      <th>108</th>\n",
       "      <td>0</td>\n",
       "      <td>peugeot 304</td>\n",
       "      <td>diesel</td>\n",
       "      <td>turbo</td>\n",
       "      <td>four</td>\n",
       "      <td>sedan</td>\n",
       "      <td>rwd</td>\n",
       "      <td>front</td>\n",
       "      <td>107.9</td>\n",
       "      <td>186.7</td>\n",
       "      <td>68.4</td>\n",
       "      <td>56.7</td>\n",
       "      <td>3197</td>\n",
       "      <td>l</td>\n",
       "      <td>four</td>\n",
       "      <td>152</td>\n",
       "      <td>idi</td>\n",
       "      <td>3.70</td>\n",
       "      <td>3.52</td>\n",
       "      <td>21.0</td>\n",
       "      <td>95</td>\n",
       "      <td>4150</td>\n",
       "      <td>28</td>\n",
       "      <td>33</td>\n",
       "      <td>13200.0</td>\n",
       "    </tr>\n",
       "    <tr>\n",
       "      <th>110</th>\n",
       "      <td>0</td>\n",
       "      <td>peugeot 504</td>\n",
       "      <td>diesel</td>\n",
       "      <td>turbo</td>\n",
       "      <td>four</td>\n",
       "      <td>wagon</td>\n",
       "      <td>rwd</td>\n",
       "      <td>front</td>\n",
       "      <td>114.2</td>\n",
       "      <td>198.9</td>\n",
       "      <td>68.4</td>\n",
       "      <td>58.7</td>\n",
       "      <td>3430</td>\n",
       "      <td>l</td>\n",
       "      <td>four</td>\n",
       "      <td>152</td>\n",
       "      <td>idi</td>\n",
       "      <td>3.70</td>\n",
       "      <td>3.52</td>\n",
       "      <td>21.0</td>\n",
       "      <td>95</td>\n",
       "      <td>4150</td>\n",
       "      <td>25</td>\n",
       "      <td>25</td>\n",
       "      <td>13860.0</td>\n",
       "    </tr>\n",
       "    <tr>\n",
       "      <th>112</th>\n",
       "      <td>0</td>\n",
       "      <td>peugeot 604sl</td>\n",
       "      <td>diesel</td>\n",
       "      <td>turbo</td>\n",
       "      <td>four</td>\n",
       "      <td>sedan</td>\n",
       "      <td>rwd</td>\n",
       "      <td>front</td>\n",
       "      <td>107.9</td>\n",
       "      <td>186.7</td>\n",
       "      <td>68.4</td>\n",
       "      <td>56.7</td>\n",
       "      <td>3252</td>\n",
       "      <td>l</td>\n",
       "      <td>four</td>\n",
       "      <td>152</td>\n",
       "      <td>idi</td>\n",
       "      <td>3.70</td>\n",
       "      <td>3.52</td>\n",
       "      <td>21.0</td>\n",
       "      <td>95</td>\n",
       "      <td>4150</td>\n",
       "      <td>28</td>\n",
       "      <td>33</td>\n",
       "      <td>16900.0</td>\n",
       "    </tr>\n",
       "    <tr>\n",
       "      <th>114</th>\n",
       "      <td>0</td>\n",
       "      <td>peugeot 505s turbo diesel</td>\n",
       "      <td>diesel</td>\n",
       "      <td>turbo</td>\n",
       "      <td>four</td>\n",
       "      <td>wagon</td>\n",
       "      <td>rwd</td>\n",
       "      <td>front</td>\n",
       "      <td>114.2</td>\n",
       "      <td>198.9</td>\n",
       "      <td>68.4</td>\n",
       "      <td>58.7</td>\n",
       "      <td>3485</td>\n",
       "      <td>l</td>\n",
       "      <td>four</td>\n",
       "      <td>152</td>\n",
       "      <td>idi</td>\n",
       "      <td>3.70</td>\n",
       "      <td>3.52</td>\n",
       "      <td>21.0</td>\n",
       "      <td>95</td>\n",
       "      <td>4150</td>\n",
       "      <td>25</td>\n",
       "      <td>25</td>\n",
       "      <td>17075.0</td>\n",
       "    </tr>\n",
       "    <tr>\n",
       "      <th>116</th>\n",
       "      <td>0</td>\n",
       "      <td>peugeot 504</td>\n",
       "      <td>diesel</td>\n",
       "      <td>turbo</td>\n",
       "      <td>four</td>\n",
       "      <td>sedan</td>\n",
       "      <td>rwd</td>\n",
       "      <td>front</td>\n",
       "      <td>107.9</td>\n",
       "      <td>186.7</td>\n",
       "      <td>68.4</td>\n",
       "      <td>56.7</td>\n",
       "      <td>3252</td>\n",
       "      <td>l</td>\n",
       "      <td>four</td>\n",
       "      <td>152</td>\n",
       "      <td>idi</td>\n",
       "      <td>3.70</td>\n",
       "      <td>3.52</td>\n",
       "      <td>21.0</td>\n",
       "      <td>95</td>\n",
       "      <td>4150</td>\n",
       "      <td>28</td>\n",
       "      <td>33</td>\n",
       "      <td>17950.0</td>\n",
       "    </tr>\n",
       "    <tr>\n",
       "      <th>158</th>\n",
       "      <td>0</td>\n",
       "      <td>toyota corona</td>\n",
       "      <td>diesel</td>\n",
       "      <td>std</td>\n",
       "      <td>four</td>\n",
       "      <td>sedan</td>\n",
       "      <td>fwd</td>\n",
       "      <td>front</td>\n",
       "      <td>95.7</td>\n",
       "      <td>166.3</td>\n",
       "      <td>64.4</td>\n",
       "      <td>53.0</td>\n",
       "      <td>2275</td>\n",
       "      <td>ohc</td>\n",
       "      <td>four</td>\n",
       "      <td>110</td>\n",
       "      <td>idi</td>\n",
       "      <td>3.27</td>\n",
       "      <td>3.35</td>\n",
       "      <td>22.5</td>\n",
       "      <td>56</td>\n",
       "      <td>4500</td>\n",
       "      <td>34</td>\n",
       "      <td>36</td>\n",
       "      <td>7898.0</td>\n",
       "    </tr>\n",
       "    <tr>\n",
       "      <th>159</th>\n",
       "      <td>0</td>\n",
       "      <td>toyota corolla</td>\n",
       "      <td>diesel</td>\n",
       "      <td>std</td>\n",
       "      <td>four</td>\n",
       "      <td>hatchback</td>\n",
       "      <td>fwd</td>\n",
       "      <td>front</td>\n",
       "      <td>95.7</td>\n",
       "      <td>166.3</td>\n",
       "      <td>64.4</td>\n",
       "      <td>52.8</td>\n",
       "      <td>2275</td>\n",
       "      <td>ohc</td>\n",
       "      <td>four</td>\n",
       "      <td>110</td>\n",
       "      <td>idi</td>\n",
       "      <td>3.27</td>\n",
       "      <td>3.35</td>\n",
       "      <td>22.5</td>\n",
       "      <td>56</td>\n",
       "      <td>4500</td>\n",
       "      <td>38</td>\n",
       "      <td>47</td>\n",
       "      <td>7788.0</td>\n",
       "    </tr>\n",
       "    <tr>\n",
       "      <th>174</th>\n",
       "      <td>-1</td>\n",
       "      <td>toyota celica gt</td>\n",
       "      <td>diesel</td>\n",
       "      <td>turbo</td>\n",
       "      <td>four</td>\n",
       "      <td>sedan</td>\n",
       "      <td>fwd</td>\n",
       "      <td>front</td>\n",
       "      <td>102.4</td>\n",
       "      <td>175.6</td>\n",
       "      <td>66.5</td>\n",
       "      <td>54.9</td>\n",
       "      <td>2480</td>\n",
       "      <td>ohc</td>\n",
       "      <td>four</td>\n",
       "      <td>110</td>\n",
       "      <td>idi</td>\n",
       "      <td>3.27</td>\n",
       "      <td>3.35</td>\n",
       "      <td>22.5</td>\n",
       "      <td>73</td>\n",
       "      <td>4500</td>\n",
       "      <td>30</td>\n",
       "      <td>33</td>\n",
       "      <td>10698.0</td>\n",
       "    </tr>\n",
       "    <tr>\n",
       "      <th>182</th>\n",
       "      <td>2</td>\n",
       "      <td>vokswagen rabbit</td>\n",
       "      <td>diesel</td>\n",
       "      <td>std</td>\n",
       "      <td>two</td>\n",
       "      <td>sedan</td>\n",
       "      <td>fwd</td>\n",
       "      <td>front</td>\n",
       "      <td>97.3</td>\n",
       "      <td>171.7</td>\n",
       "      <td>65.5</td>\n",
       "      <td>55.7</td>\n",
       "      <td>2261</td>\n",
       "      <td>ohc</td>\n",
       "      <td>four</td>\n",
       "      <td>97</td>\n",
       "      <td>idi</td>\n",
       "      <td>3.01</td>\n",
       "      <td>3.40</td>\n",
       "      <td>23.0</td>\n",
       "      <td>52</td>\n",
       "      <td>4800</td>\n",
       "      <td>37</td>\n",
       "      <td>46</td>\n",
       "      <td>7775.0</td>\n",
       "    </tr>\n",
       "    <tr>\n",
       "      <th>184</th>\n",
       "      <td>2</td>\n",
       "      <td>volkswagen model 111</td>\n",
       "      <td>diesel</td>\n",
       "      <td>std</td>\n",
       "      <td>four</td>\n",
       "      <td>sedan</td>\n",
       "      <td>fwd</td>\n",
       "      <td>front</td>\n",
       "      <td>97.3</td>\n",
       "      <td>171.7</td>\n",
       "      <td>65.5</td>\n",
       "      <td>55.7</td>\n",
       "      <td>2264</td>\n",
       "      <td>ohc</td>\n",
       "      <td>four</td>\n",
       "      <td>97</td>\n",
       "      <td>idi</td>\n",
       "      <td>3.01</td>\n",
       "      <td>3.40</td>\n",
       "      <td>23.0</td>\n",
       "      <td>52</td>\n",
       "      <td>4800</td>\n",
       "      <td>37</td>\n",
       "      <td>46</td>\n",
       "      <td>7995.0</td>\n",
       "    </tr>\n",
       "    <tr>\n",
       "      <th>187</th>\n",
       "      <td>2</td>\n",
       "      <td>volkswagen super beetle</td>\n",
       "      <td>diesel</td>\n",
       "      <td>turbo</td>\n",
       "      <td>four</td>\n",
       "      <td>sedan</td>\n",
       "      <td>fwd</td>\n",
       "      <td>front</td>\n",
       "      <td>97.3</td>\n",
       "      <td>171.7</td>\n",
       "      <td>65.5</td>\n",
       "      <td>55.7</td>\n",
       "      <td>2319</td>\n",
       "      <td>ohc</td>\n",
       "      <td>four</td>\n",
       "      <td>97</td>\n",
       "      <td>idi</td>\n",
       "      <td>3.01</td>\n",
       "      <td>3.40</td>\n",
       "      <td>23.0</td>\n",
       "      <td>68</td>\n",
       "      <td>4500</td>\n",
       "      <td>37</td>\n",
       "      <td>42</td>\n",
       "      <td>9495.0</td>\n",
       "    </tr>\n",
       "    <tr>\n",
       "      <th>192</th>\n",
       "      <td>0</td>\n",
       "      <td>volkswagen rabbit custom</td>\n",
       "      <td>diesel</td>\n",
       "      <td>turbo</td>\n",
       "      <td>four</td>\n",
       "      <td>sedan</td>\n",
       "      <td>fwd</td>\n",
       "      <td>front</td>\n",
       "      <td>100.4</td>\n",
       "      <td>180.2</td>\n",
       "      <td>66.9</td>\n",
       "      <td>55.1</td>\n",
       "      <td>2579</td>\n",
       "      <td>ohc</td>\n",
       "      <td>four</td>\n",
       "      <td>97</td>\n",
       "      <td>idi</td>\n",
       "      <td>3.01</td>\n",
       "      <td>3.40</td>\n",
       "      <td>23.0</td>\n",
       "      <td>68</td>\n",
       "      <td>4500</td>\n",
       "      <td>33</td>\n",
       "      <td>38</td>\n",
       "      <td>13845.0</td>\n",
       "    </tr>\n",
       "    <tr>\n",
       "      <th>203</th>\n",
       "      <td>-1</td>\n",
       "      <td>volvo 246</td>\n",
       "      <td>diesel</td>\n",
       "      <td>turbo</td>\n",
       "      <td>four</td>\n",
       "      <td>sedan</td>\n",
       "      <td>rwd</td>\n",
       "      <td>front</td>\n",
       "      <td>109.1</td>\n",
       "      <td>188.8</td>\n",
       "      <td>68.9</td>\n",
       "      <td>55.5</td>\n",
       "      <td>3217</td>\n",
       "      <td>ohc</td>\n",
       "      <td>six</td>\n",
       "      <td>145</td>\n",
       "      <td>idi</td>\n",
       "      <td>3.01</td>\n",
       "      <td>3.40</td>\n",
       "      <td>23.0</td>\n",
       "      <td>106</td>\n",
       "      <td>4800</td>\n",
       "      <td>26</td>\n",
       "      <td>27</td>\n",
       "      <td>22470.0</td>\n",
       "    </tr>\n",
       "  </tbody>\n",
       "</table>\n",
       "</div>"
      ],
      "text/plain": [
       "     symboling                    CarName fueltype aspiration doornumber  \\\n",
       "49           0                  jaguar xk      gas        std        two   \n",
       "63           0           mazda glc deluxe   diesel        std       four   \n",
       "66           0              mazda rx-7 gs   diesel        std       four   \n",
       "67          -1   buick electra 225 custom   diesel      turbo       four   \n",
       "68          -1   buick century luxus (sw)   diesel      turbo       four   \n",
       "69           0              buick century   diesel      turbo        two   \n",
       "70          -1              buick skyhawk   diesel      turbo       four   \n",
       "90           1                nissan gt-r   diesel        std        two   \n",
       "108          0                peugeot 304   diesel      turbo       four   \n",
       "110          0                peugeot 504   diesel      turbo       four   \n",
       "112          0              peugeot 604sl   diesel      turbo       four   \n",
       "114          0  peugeot 505s turbo diesel   diesel      turbo       four   \n",
       "116          0                peugeot 504   diesel      turbo       four   \n",
       "158          0              toyota corona   diesel        std       four   \n",
       "159          0             toyota corolla   diesel        std       four   \n",
       "174         -1           toyota celica gt   diesel      turbo       four   \n",
       "182          2           vokswagen rabbit   diesel        std        two   \n",
       "184          2       volkswagen model 111   diesel        std       four   \n",
       "187          2    volkswagen super beetle   diesel      turbo       four   \n",
       "192          0   volkswagen rabbit custom   diesel      turbo       four   \n",
       "203         -1                  volvo 246   diesel      turbo       four   \n",
       "\n",
       "       carbody drivewheel enginelocation  wheelbase  carlength  carwidth  \\\n",
       "49       sedan        rwd          front      102.0      191.7      70.6   \n",
       "63       sedan        fwd          front       98.8      177.8      66.5   \n",
       "66       sedan        rwd          front      104.9      175.0      66.1   \n",
       "67       sedan        rwd          front      110.0      190.9      70.3   \n",
       "68       wagon        rwd          front      110.0      190.9      70.3   \n",
       "69     hardtop        rwd          front      106.7      187.5      70.3   \n",
       "70       sedan        rwd          front      115.6      202.6      71.7   \n",
       "90       sedan        fwd          front       94.5      165.3      63.8   \n",
       "108      sedan        rwd          front      107.9      186.7      68.4   \n",
       "110      wagon        rwd          front      114.2      198.9      68.4   \n",
       "112      sedan        rwd          front      107.9      186.7      68.4   \n",
       "114      wagon        rwd          front      114.2      198.9      68.4   \n",
       "116      sedan        rwd          front      107.9      186.7      68.4   \n",
       "158      sedan        fwd          front       95.7      166.3      64.4   \n",
       "159  hatchback        fwd          front       95.7      166.3      64.4   \n",
       "174      sedan        fwd          front      102.4      175.6      66.5   \n",
       "182      sedan        fwd          front       97.3      171.7      65.5   \n",
       "184      sedan        fwd          front       97.3      171.7      65.5   \n",
       "187      sedan        fwd          front       97.3      171.7      65.5   \n",
       "192      sedan        fwd          front      100.4      180.2      66.9   \n",
       "203      sedan        rwd          front      109.1      188.8      68.9   \n",
       "\n",
       "     carheight  curbweight enginetype cylindernumber  enginesize fuelsystem  \\\n",
       "49        47.8        3950       ohcv         twelve         326       mpfi   \n",
       "63        55.5        2443        ohc           four         122        idi   \n",
       "66        54.4        2700        ohc           four         134        idi   \n",
       "67        56.5        3515        ohc           five         183        idi   \n",
       "68        58.7        3750        ohc           five         183        idi   \n",
       "69        54.9        3495        ohc           five         183        idi   \n",
       "70        56.3        3770        ohc           five         183        idi   \n",
       "90        54.5        2017        ohc           four         103        idi   \n",
       "108       56.7        3197          l           four         152        idi   \n",
       "110       58.7        3430          l           four         152        idi   \n",
       "112       56.7        3252          l           four         152        idi   \n",
       "114       58.7        3485          l           four         152        idi   \n",
       "116       56.7        3252          l           four         152        idi   \n",
       "158       53.0        2275        ohc           four         110        idi   \n",
       "159       52.8        2275        ohc           four         110        idi   \n",
       "174       54.9        2480        ohc           four         110        idi   \n",
       "182       55.7        2261        ohc           four          97        idi   \n",
       "184       55.7        2264        ohc           four          97        idi   \n",
       "187       55.7        2319        ohc           four          97        idi   \n",
       "192       55.1        2579        ohc           four          97        idi   \n",
       "203       55.5        3217        ohc            six         145        idi   \n",
       "\n",
       "     boreratio  stroke  compressionratio  horsepower  peakrpm  citympg  \\\n",
       "49        3.54    2.76              11.5         262     5000       13   \n",
       "63        3.39    3.39              22.7          64     4650       36   \n",
       "66        3.43    3.64              22.0          72     4200       31   \n",
       "67        3.58    3.64              21.5         123     4350       22   \n",
       "68        3.58    3.64              21.5         123     4350       22   \n",
       "69        3.58    3.64              21.5         123     4350       22   \n",
       "70        3.58    3.64              21.5         123     4350       22   \n",
       "90        2.99    3.47              21.9          55     4800       45   \n",
       "108       3.70    3.52              21.0          95     4150       28   \n",
       "110       3.70    3.52              21.0          95     4150       25   \n",
       "112       3.70    3.52              21.0          95     4150       28   \n",
       "114       3.70    3.52              21.0          95     4150       25   \n",
       "116       3.70    3.52              21.0          95     4150       28   \n",
       "158       3.27    3.35              22.5          56     4500       34   \n",
       "159       3.27    3.35              22.5          56     4500       38   \n",
       "174       3.27    3.35              22.5          73     4500       30   \n",
       "182       3.01    3.40              23.0          52     4800       37   \n",
       "184       3.01    3.40              23.0          52     4800       37   \n",
       "187       3.01    3.40              23.0          68     4500       37   \n",
       "192       3.01    3.40              23.0          68     4500       33   \n",
       "203       3.01    3.40              23.0         106     4800       26   \n",
       "\n",
       "     highwaympg    price  \n",
       "49           17  36000.0  \n",
       "63           42  10795.0  \n",
       "66           39  18344.0  \n",
       "67           25  25552.0  \n",
       "68           25  28248.0  \n",
       "69           25  28176.0  \n",
       "70           25  31600.0  \n",
       "90           50   7099.0  \n",
       "108          33  13200.0  \n",
       "110          25  13860.0  \n",
       "112          33  16900.0  \n",
       "114          25  17075.0  \n",
       "116          33  17950.0  \n",
       "158          36   7898.0  \n",
       "159          47   7788.0  \n",
       "174          33  10698.0  \n",
       "182          46   7775.0  \n",
       "184          46   7995.0  \n",
       "187          42   9495.0  \n",
       "192          38  13845.0  \n",
       "203          27  22470.0  "
      ]
     },
     "execution_count": 41,
     "metadata": {},
     "output_type": "execute_result"
    }
   ],
   "source": [
    "print(df.compressionratio.mean())\n",
    "for i in df.compressionratio:\n",
    "    if i> 11:\n",
    "        print(i)\n",
    "df.loc[df['compressionratio'] > 11]"
   ]
  },
  {
   "cell_type": "code",
   "execution_count": 42,
   "id": "fd1175b4",
   "metadata": {
    "execution": {
     "iopub.execute_input": "2023-01-01T19:27:43.472725Z",
     "iopub.status.busy": "2023-01-01T19:27:43.472279Z",
     "iopub.status.idle": "2023-01-01T19:27:43.661729Z",
     "shell.execute_reply": "2023-01-01T19:27:43.660431Z"
    },
    "papermill": {
     "duration": 0.220074,
     "end_time": "2023-01-01T19:27:43.665042",
     "exception": false,
     "start_time": "2023-01-01T19:27:43.444968",
     "status": "completed"
    },
    "tags": []
   },
   "outputs": [
    {
     "data": {
      "text/plain": [
       "<AxesSubplot:xlabel='horsepower'>"
      ]
     },
     "execution_count": 42,
     "metadata": {},
     "output_type": "execute_result"
    },
    {
     "data": {
      "image/png": "[encoded data removed]",
      "text/plain": [
       "<Figure size 432x288 with 1 Axes>"
      ]
     },
     "metadata": {
      "needs_background": "light"
     },
     "output_type": "display_data"
    }
   ],
   "source": [
    "sns.boxplot(x = df[\"horsepower\"])"
   ]
  },
  {
   "cell_type": "code",
   "execution_count": 43,
   "id": "bb2f45ea",
   "metadata": {
    "execution": {
     "iopub.execute_input": "2023-01-01T19:27:43.720379Z",
     "iopub.status.busy": "2023-01-01T19:27:43.719709Z",
     "iopub.status.idle": "2023-01-01T19:27:43.901325Z",
     "shell.execute_reply": "2023-01-01T19:27:43.900077Z"
    },
    "papermill": {
     "duration": 0.212215,
     "end_time": "2023-01-01T19:27:43.904368",
     "exception": false,
     "start_time": "2023-01-01T19:27:43.692153",
     "status": "completed"
    },
    "tags": []
   },
   "outputs": [
    {
     "data": {
      "text/plain": [
       "<AxesSubplot:xlabel='peakrpm'>"
      ]
     },
     "execution_count": 43,
     "metadata": {},
     "output_type": "execute_result"
    },
    {
     "data": {
      "image/png": "[encoded data removed]",
      "text/plain": [
       "<Figure size 432x288 with 1 Axes>"
      ]
     },
     "metadata": {
      "needs_background": "light"
     },
     "output_type": "display_data"
    }
   ],
   "source": [
    "sns.boxplot(x = df[\"peakrpm\"])"
   ]
  },
  {
   "cell_type": "code",
   "execution_count": 44,
   "id": "43b7f4cf",
   "metadata": {
    "execution": {
     "iopub.execute_input": "2023-01-01T19:27:43.959530Z",
     "iopub.status.busy": "2023-01-01T19:27:43.959072Z",
     "iopub.status.idle": "2023-01-01T19:27:44.087730Z",
     "shell.execute_reply": "2023-01-01T19:27:44.085948Z"
    },
    "papermill": {
     "duration": 0.159938,
     "end_time": "2023-01-01T19:27:44.090805",
     "exception": false,
     "start_time": "2023-01-01T19:27:43.930867",
     "status": "completed"
    },
    "tags": []
   },
   "outputs": [
    {
     "data": {
      "text/plain": [
       "<AxesSubplot:xlabel='citympg'>"
      ]
     },
     "execution_count": 44,
     "metadata": {},
     "output_type": "execute_result"
    },
    {
     "data": {
      "image/png": "[encoded data removed]",
      "text/plain": [
       "<Figure size 432x288 with 1 Axes>"
      ]
     },
     "metadata": {
      "needs_background": "light"
     },
     "output_type": "display_data"
    }
   ],
   "source": [
    "sns.boxplot(x = df[\"citympg\"])"
   ]
  },
  {
   "cell_type": "code",
   "execution_count": 45,
   "id": "265c345d",
   "metadata": {
    "execution": {
     "iopub.execute_input": "2023-01-01T19:27:44.148550Z",
     "iopub.status.busy": "2023-01-01T19:27:44.147063Z",
     "iopub.status.idle": "2023-01-01T19:27:44.349349Z",
     "shell.execute_reply": "2023-01-01T19:27:44.348223Z"
    },
    "papermill": {
     "duration": 0.233294,
     "end_time": "2023-01-01T19:27:44.352089",
     "exception": false,
     "start_time": "2023-01-01T19:27:44.118795",
     "status": "completed"
    },
    "tags": []
   },
   "outputs": [
    {
     "data": {
      "text/plain": [
       "<AxesSubplot:xlabel='highwaympg'>"
      ]
     },
     "execution_count": 45,
     "metadata": {},
     "output_type": "execute_result"
    },
    {
     "data": {
      "image/png": "[encoded data removed]",
      "text/plain": [
       "<Figure size 432x288 with 1 Axes>"
      ]
     },
     "metadata": {
      "needs_background": "light"
     },
     "output_type": "display_data"
    }
   ],
   "source": [
    "sns.boxplot(x = df[\"highwaympg\"])"
   ]
  },
  {
   "cell_type": "code",
   "execution_count": 46,
   "id": "7fc0d307",
   "metadata": {
    "execution": {
     "iopub.execute_input": "2023-01-01T19:27:44.407906Z",
     "iopub.status.busy": "2023-01-01T19:27:44.407468Z",
     "iopub.status.idle": "2023-01-01T19:27:44.420136Z",
     "shell.execute_reply": "2023-01-01T19:27:44.418593Z"
    },
    "papermill": {
     "duration": 0.043408,
     "end_time": "2023-01-01T19:27:44.422539",
     "exception": false,
     "start_time": "2023-01-01T19:27:44.379131",
     "status": "completed"
    },
    "tags": []
   },
   "outputs": [
    {
     "name": "stdout",
     "output_type": "stream",
     "text": [
      "symboling              2.00\n",
      "wheelbase              7.90\n",
      "carlength             16.80\n",
      "carwidth               2.80\n",
      "carheight              3.50\n",
      "curbweight           790.00\n",
      "enginesize            44.00\n",
      "boreratio              0.43\n",
      "stroke                 0.30\n",
      "compressionratio       0.80\n",
      "horsepower            46.00\n",
      "peakrpm              700.00\n",
      "citympg               11.00\n",
      "highwaympg             9.00\n",
      "price               8715.00\n",
      "dtype: float64\n"
     ]
    }
   ],
   "source": [
    "Q1 = df.quantile(0.25)\n",
    "Q3 = df.quantile(0.75)\n",
    "IQR = Q3-Q1\n",
    "print(IQR)"
   ]
  },
  {
   "cell_type": "code",
   "execution_count": 47,
   "id": "dd4a3176",
   "metadata": {
    "execution": {
     "iopub.execute_input": "2023-01-01T19:27:44.478419Z",
     "iopub.status.busy": "2023-01-01T19:27:44.477946Z",
     "iopub.status.idle": "2023-01-01T19:27:44.486509Z",
     "shell.execute_reply": "2023-01-01T19:27:44.484793Z"
    },
    "papermill": {
     "duration": 0.039348,
     "end_time": "2023-01-01T19:27:44.489179",
     "exception": false,
     "start_time": "2023-01-01T19:27:44.449831",
     "status": "completed"
    },
    "tags": []
   },
   "outputs": [
    {
     "name": "stdout",
     "output_type": "stream",
     "text": [
      "symboling --- -3 --- 5\n",
      "wheelbase --- 83 --- 114\n",
      "carlength --- 141 --- 208\n",
      "carwidth --- 60 --- 71\n",
      "carheight --- 47 --- 61\n",
      "curbweight --- 960 --- 4120\n",
      "enginesize --- 31 --- 207\n",
      "boreratio --- 3 --- 4\n",
      "stroke --- 3 --- 4\n",
      "compressionratio --- 7 --- 11\n",
      "horsepower --- 1 --- 185\n",
      "peakrpm --- 3750 --- 6550\n",
      "citympg --- 2 --- 46\n",
      "highwaympg --- 12 --- 48\n",
      "price --- -5284 --- 29576\n"
     ]
    }
   ],
   "source": [
    "BBound = Q1-1.5*IQR\n",
    "TBound = Q3 + 1.5*IQR\n",
    "for i in IQR.index:\n",
    "    print(i,\"---\",\n",
    "          round(BBound[i]),\"---\",round(TBound[i]))"
   ]
  },
  {
   "cell_type": "code",
   "execution_count": 48,
   "id": "04965f79",
   "metadata": {
    "execution": {
     "iopub.execute_input": "2023-01-01T19:27:44.545229Z",
     "iopub.status.busy": "2023-01-01T19:27:44.544794Z",
     "iopub.status.idle": "2023-01-01T19:27:44.609608Z",
     "shell.execute_reply": "2023-01-01T19:27:44.607999Z"
    },
    "papermill": {
     "duration": 0.096424,
     "end_time": "2023-01-01T19:27:44.612540",
     "exception": false,
     "start_time": "2023-01-01T19:27:44.516116",
     "status": "completed"
    },
    "tags": []
   },
   "outputs": [
    {
     "name": "stderr",
     "output_type": "stream",
     "text": [
      "/opt/conda/lib/python3.7/site-packages/ipykernel_launcher.py:6: SettingWithCopyWarning: \n",
      "A value is trying to be set on a copy of a slice from a DataFrame\n",
      "\n",
      "See the caveats in the documentation: https://pandas.pydata.org/pandas-docs/stable/user_guide/indexing.html#returning-a-view-versus-a-copy\n",
      "  \n",
      "/opt/conda/lib/python3.7/site-packages/ipykernel_launcher.py:7: SettingWithCopyWarning: \n",
      "A value is trying to be set on a copy of a slice from a DataFrame\n",
      "\n",
      "See the caveats in the documentation: https://pandas.pydata.org/pandas-docs/stable/user_guide/indexing.html#returning-a-view-versus-a-copy\n",
      "  import sys\n",
      "/opt/conda/lib/python3.7/site-packages/ipykernel_launcher.py:7: SettingWithCopyWarning: \n",
      "A value is trying to be set on a copy of a slice from a DataFrame\n",
      "\n",
      "See the caveats in the documentation: https://pandas.pydata.org/pandas-docs/stable/user_guide/indexing.html#returning-a-view-versus-a-copy\n",
      "  import sys\n",
      "/opt/conda/lib/python3.7/site-packages/ipykernel_launcher.py:6: SettingWithCopyWarning: \n",
      "A value is trying to be set on a copy of a slice from a DataFrame\n",
      "\n",
      "See the caveats in the documentation: https://pandas.pydata.org/pandas-docs/stable/user_guide/indexing.html#returning-a-view-versus-a-copy\n",
      "  \n",
      "/opt/conda/lib/python3.7/site-packages/ipykernel_launcher.py:7: SettingWithCopyWarning: \n",
      "A value is trying to be set on a copy of a slice from a DataFrame\n",
      "\n",
      "See the caveats in the documentation: https://pandas.pydata.org/pandas-docs/stable/user_guide/indexing.html#returning-a-view-versus-a-copy\n",
      "  import sys\n",
      "/opt/conda/lib/python3.7/site-packages/ipykernel_launcher.py:6: SettingWithCopyWarning: \n",
      "A value is trying to be set on a copy of a slice from a DataFrame\n",
      "\n",
      "See the caveats in the documentation: https://pandas.pydata.org/pandas-docs/stable/user_guide/indexing.html#returning-a-view-versus-a-copy\n",
      "  \n"
     ]
    }
   ],
   "source": [
    "for i in TBound.index:\n",
    "    TOut = df[i] > TBound[i]\n",
    "    BOut = df[i] < BBound[i]\n",
    "    \n",
    "    \n",
    "    df[i][TOut] = TBound[i]\n",
    "    df[i][BOut] = BBound[i]"
   ]
  },
  {
   "cell_type": "code",
   "execution_count": 49,
   "id": "a14448a7",
   "metadata": {
    "execution": {
     "iopub.execute_input": "2023-01-01T19:27:44.675178Z",
     "iopub.status.busy": "2023-01-01T19:27:44.674785Z",
     "iopub.status.idle": "2023-01-01T19:27:44.687443Z",
     "shell.execute_reply": "2023-01-01T19:27:44.686090Z"
    },
    "papermill": {
     "duration": 0.049688,
     "end_time": "2023-01-01T19:27:44.691257",
     "exception": false,
     "start_time": "2023-01-01T19:27:44.641569",
     "status": "completed"
    },
    "tags": []
   },
   "outputs": [
    {
     "data": {
      "text/plain": [
       "price               1.000000\n",
       "curbweight          0.864597\n",
       "enginesize          0.860063\n",
       "horsepower          0.821715\n",
       "carwidth            0.783230\n",
       "carlength           0.712455\n",
       "wheelbase           0.595909\n",
       "boreratio           0.572685\n",
       "carheight           0.142033\n",
       "stroke              0.073830\n",
       "compressionratio   -0.056573\n",
       "peakrpm            -0.088630\n",
       "symboling          -0.092705\n",
       "citympg            -0.718290\n",
       "highwaympg         -0.733692\n",
       "Name: price, dtype: float64"
      ]
     },
     "execution_count": 49,
     "metadata": {},
     "output_type": "execute_result"
    }
   ],
   "source": [
    "df.corr()[\"price\"].sort_values(ascending = False)"
   ]
  },
  {
   "cell_type": "code",
   "execution_count": 50,
   "id": "341d42a1",
   "metadata": {
    "execution": {
     "iopub.execute_input": "2023-01-01T19:27:44.763255Z",
     "iopub.status.busy": "2023-01-01T19:27:44.762682Z",
     "iopub.status.idle": "2023-01-01T19:27:44.778655Z",
     "shell.execute_reply": "2023-01-01T19:27:44.777286Z"
    },
    "papermill": {
     "duration": 0.050552,
     "end_time": "2023-01-01T19:27:44.781702",
     "exception": false,
     "start_time": "2023-01-01T19:27:44.731150",
     "status": "completed"
    },
    "tags": []
   },
   "outputs": [
    {
     "name": "stdout",
     "output_type": "stream",
     "text": [
      "<class 'pandas.core.frame.DataFrame'>\n",
      "RangeIndex: 205 entries, 0 to 204\n",
      "Data columns (total 25 columns):\n",
      " #   Column            Non-Null Count  Dtype  \n",
      "---  ------            --------------  -----  \n",
      " 0   symboling         205 non-null    int64  \n",
      " 1   CarName           205 non-null    object \n",
      " 2   fueltype          205 non-null    object \n",
      " 3   aspiration        205 non-null    object \n",
      " 4   doornumber        205 non-null    object \n",
      " 5   carbody           205 non-null    object \n",
      " 6   drivewheel        205 non-null    object \n",
      " 7   enginelocation    205 non-null    object \n",
      " 8   wheelbase         205 non-null    float64\n",
      " 9   carlength         205 non-null    float64\n",
      " 10  carwidth          205 non-null    float64\n",
      " 11  carheight         205 non-null    float64\n",
      " 12  curbweight        205 non-null    int64  \n",
      " 13  enginetype        205 non-null    object \n",
      " 14  cylindernumber    205 non-null    object \n",
      " 15  enginesize        205 non-null    int64  \n",
      " 16  fuelsystem        205 non-null    object \n",
      " 17  boreratio         205 non-null    float64\n",
      " 18  stroke            205 non-null    float64\n",
      " 19  compressionratio  205 non-null    float64\n",
      " 20  horsepower        205 non-null    int64  \n",
      " 21  peakrpm           205 non-null    int64  \n",
      " 22  citympg           205 non-null    float64\n",
      " 23  highwaympg        205 non-null    float64\n",
      " 24  price             205 non-null    float64\n",
      "dtypes: float64(10), int64(5), object(10)\n",
      "memory usage: 40.2+ KB\n"
     ]
    }
   ],
   "source": [
    "df.info()"
   ]
  },
  {
   "cell_type": "code",
   "execution_count": 51,
   "id": "6ee5f8d0",
   "metadata": {
    "execution": {
     "iopub.execute_input": "2023-01-01T19:27:44.839840Z",
     "iopub.status.busy": "2023-01-01T19:27:44.839444Z",
     "iopub.status.idle": "2023-01-01T19:27:44.870385Z",
     "shell.execute_reply": "2023-01-01T19:27:44.869193Z"
    },
    "papermill": {
     "duration": 0.062389,
     "end_time": "2023-01-01T19:27:44.872824",
     "exception": false,
     "start_time": "2023-01-01T19:27:44.810435",
     "status": "completed"
    },
    "tags": []
   },
   "outputs": [
    {
     "data": {
      "text/html": [
       "<div>\n",
       "<style scoped>\n",
       "    .dataframe tbody tr th:only-of-type {\n",
       "        vertical-align: middle;\n",
       "    }\n",
       "\n",
       "    .dataframe tbody tr th {\n",
       "        vertical-align: top;\n",
       "    }\n",
       "\n",
       "    .dataframe thead th {\n",
       "        text-align: right;\n",
       "    }\n",
       "</style>\n",
       "<table border=\"1\" class=\"dataframe\">\n",
       "  <thead>\n",
       "    <tr style=\"text-align: right;\">\n",
       "      <th></th>\n",
       "      <th>symboling</th>\n",
       "      <th>CarName</th>\n",
       "      <th>fueltype</th>\n",
       "      <th>aspiration</th>\n",
       "      <th>doornumber</th>\n",
       "      <th>carbody</th>\n",
       "      <th>drivewheel</th>\n",
       "      <th>enginelocation</th>\n",
       "      <th>wheelbase</th>\n",
       "      <th>carlength</th>\n",
       "      <th>carwidth</th>\n",
       "      <th>carheight</th>\n",
       "      <th>curbweight</th>\n",
       "      <th>enginetype</th>\n",
       "      <th>cylindernumber</th>\n",
       "      <th>enginesize</th>\n",
       "      <th>fuelsystem</th>\n",
       "      <th>boreratio</th>\n",
       "      <th>stroke</th>\n",
       "      <th>compressionratio</th>\n",
       "      <th>horsepower</th>\n",
       "      <th>peakrpm</th>\n",
       "      <th>citympg</th>\n",
       "      <th>highwaympg</th>\n",
       "      <th>price</th>\n",
       "    </tr>\n",
       "  </thead>\n",
       "  <tbody>\n",
       "    <tr>\n",
       "      <th>0</th>\n",
       "      <td>3</td>\n",
       "      <td>alfa-romero giulia</td>\n",
       "      <td>gas</td>\n",
       "      <td>std</td>\n",
       "      <td>two</td>\n",
       "      <td>convertible</td>\n",
       "      <td>rwd</td>\n",
       "      <td>front</td>\n",
       "      <td>88.6</td>\n",
       "      <td>168.8</td>\n",
       "      <td>64.1</td>\n",
       "      <td>48.8</td>\n",
       "      <td>2548</td>\n",
       "      <td>dohc</td>\n",
       "      <td>four</td>\n",
       "      <td>130</td>\n",
       "      <td>mpfi</td>\n",
       "      <td>3.47</td>\n",
       "      <td>2.68</td>\n",
       "      <td>9.0</td>\n",
       "      <td>111</td>\n",
       "      <td>5000</td>\n",
       "      <td>21.0</td>\n",
       "      <td>27.0</td>\n",
       "      <td>13495.0</td>\n",
       "    </tr>\n",
       "    <tr>\n",
       "      <th>1</th>\n",
       "      <td>3</td>\n",
       "      <td>alfa-romero stelvio</td>\n",
       "      <td>gas</td>\n",
       "      <td>std</td>\n",
       "      <td>two</td>\n",
       "      <td>convertible</td>\n",
       "      <td>rwd</td>\n",
       "      <td>front</td>\n",
       "      <td>88.6</td>\n",
       "      <td>168.8</td>\n",
       "      <td>64.1</td>\n",
       "      <td>48.8</td>\n",
       "      <td>2548</td>\n",
       "      <td>dohc</td>\n",
       "      <td>four</td>\n",
       "      <td>130</td>\n",
       "      <td>mpfi</td>\n",
       "      <td>3.47</td>\n",
       "      <td>2.68</td>\n",
       "      <td>9.0</td>\n",
       "      <td>111</td>\n",
       "      <td>5000</td>\n",
       "      <td>21.0</td>\n",
       "      <td>27.0</td>\n",
       "      <td>16500.0</td>\n",
       "    </tr>\n",
       "    <tr>\n",
       "      <th>2</th>\n",
       "      <td>1</td>\n",
       "      <td>alfa-romero Quadrifoglio</td>\n",
       "      <td>gas</td>\n",
       "      <td>std</td>\n",
       "      <td>two</td>\n",
       "      <td>hatchback</td>\n",
       "      <td>rwd</td>\n",
       "      <td>front</td>\n",
       "      <td>94.5</td>\n",
       "      <td>171.2</td>\n",
       "      <td>65.5</td>\n",
       "      <td>52.4</td>\n",
       "      <td>2823</td>\n",
       "      <td>ohcv</td>\n",
       "      <td>six</td>\n",
       "      <td>152</td>\n",
       "      <td>mpfi</td>\n",
       "      <td>2.68</td>\n",
       "      <td>3.47</td>\n",
       "      <td>9.0</td>\n",
       "      <td>154</td>\n",
       "      <td>5000</td>\n",
       "      <td>19.0</td>\n",
       "      <td>26.0</td>\n",
       "      <td>16500.0</td>\n",
       "    </tr>\n",
       "    <tr>\n",
       "      <th>3</th>\n",
       "      <td>2</td>\n",
       "      <td>audi 100 ls</td>\n",
       "      <td>gas</td>\n",
       "      <td>std</td>\n",
       "      <td>four</td>\n",
       "      <td>sedan</td>\n",
       "      <td>fwd</td>\n",
       "      <td>front</td>\n",
       "      <td>99.8</td>\n",
       "      <td>176.6</td>\n",
       "      <td>66.2</td>\n",
       "      <td>54.3</td>\n",
       "      <td>2337</td>\n",
       "      <td>ohc</td>\n",
       "      <td>four</td>\n",
       "      <td>109</td>\n",
       "      <td>mpfi</td>\n",
       "      <td>3.19</td>\n",
       "      <td>3.40</td>\n",
       "      <td>10.0</td>\n",
       "      <td>102</td>\n",
       "      <td>5500</td>\n",
       "      <td>24.0</td>\n",
       "      <td>30.0</td>\n",
       "      <td>13950.0</td>\n",
       "    </tr>\n",
       "    <tr>\n",
       "      <th>4</th>\n",
       "      <td>2</td>\n",
       "      <td>audi 100ls</td>\n",
       "      <td>gas</td>\n",
       "      <td>std</td>\n",
       "      <td>four</td>\n",
       "      <td>sedan</td>\n",
       "      <td>4wd</td>\n",
       "      <td>front</td>\n",
       "      <td>99.4</td>\n",
       "      <td>176.6</td>\n",
       "      <td>66.4</td>\n",
       "      <td>54.3</td>\n",
       "      <td>2824</td>\n",
       "      <td>ohc</td>\n",
       "      <td>five</td>\n",
       "      <td>136</td>\n",
       "      <td>mpfi</td>\n",
       "      <td>3.19</td>\n",
       "      <td>3.40</td>\n",
       "      <td>8.0</td>\n",
       "      <td>115</td>\n",
       "      <td>5500</td>\n",
       "      <td>18.0</td>\n",
       "      <td>22.0</td>\n",
       "      <td>17450.0</td>\n",
       "    </tr>\n",
       "  </tbody>\n",
       "</table>\n",
       "</div>"
      ],
      "text/plain": [
       "   symboling                   CarName fueltype aspiration doornumber  \\\n",
       "0          3        alfa-romero giulia      gas        std        two   \n",
       "1          3       alfa-romero stelvio      gas        std        two   \n",
       "2          1  alfa-romero Quadrifoglio      gas        std        two   \n",
       "3          2               audi 100 ls      gas        std       four   \n",
       "4          2                audi 100ls      gas        std       four   \n",
       "\n",
       "       carbody drivewheel enginelocation  wheelbase  carlength  carwidth  \\\n",
       "0  convertible        rwd          front       88.6      168.8      64.1   \n",
       "1  convertible        rwd          front       88.6      168.8      64.1   \n",
       "2    hatchback        rwd          front       94.5      171.2      65.5   \n",
       "3        sedan        fwd          front       99.8      176.6      66.2   \n",
       "4        sedan        4wd          front       99.4      176.6      66.4   \n",
       "\n",
       "   carheight  curbweight enginetype cylindernumber  enginesize fuelsystem  \\\n",
       "0       48.8        2548       dohc           four         130       mpfi   \n",
       "1       48.8        2548       dohc           four         130       mpfi   \n",
       "2       52.4        2823       ohcv            six         152       mpfi   \n",
       "3       54.3        2337        ohc           four         109       mpfi   \n",
       "4       54.3        2824        ohc           five         136       mpfi   \n",
       "\n",
       "   boreratio  stroke  compressionratio  horsepower  peakrpm  citympg  \\\n",
       "0       3.47    2.68               9.0         111     5000     21.0   \n",
       "1       3.47    2.68               9.0         111     5000     21.0   \n",
       "2       2.68    3.47               9.0         154     5000     19.0   \n",
       "3       3.19    3.40              10.0         102     5500     24.0   \n",
       "4       3.19    3.40               8.0         115     5500     18.0   \n",
       "\n",
       "   highwaympg    price  \n",
       "0        27.0  13495.0  \n",
       "1        27.0  16500.0  \n",
       "2        26.0  16500.0  \n",
       "3        30.0  13950.0  \n",
       "4        22.0  17450.0  "
      ]
     },
     "execution_count": 51,
     "metadata": {},
     "output_type": "execute_result"
    }
   ],
   "source": [
    "df.head()"
   ]
  },
  {
   "cell_type": "code",
   "execution_count": 52,
   "id": "ab23a4ea",
   "metadata": {
    "execution": {
     "iopub.execute_input": "2023-01-01T19:27:44.931439Z",
     "iopub.status.busy": "2023-01-01T19:27:44.930984Z",
     "iopub.status.idle": "2023-01-01T19:27:45.022445Z",
     "shell.execute_reply": "2023-01-01T19:27:45.021336Z"
    },
    "papermill": {
     "duration": 0.123562,
     "end_time": "2023-01-01T19:27:45.024863",
     "exception": false,
     "start_time": "2023-01-01T19:27:44.901301",
     "status": "completed"
    },
    "tags": []
   },
   "outputs": [
    {
     "name": "stderr",
     "output_type": "stream",
     "text": [
      "/opt/conda/lib/python3.7/site-packages/ipykernel_launcher.py:3: SettingWithCopyWarning: \n",
      "A value is trying to be set on a copy of a slice from a DataFrame\n",
      "\n",
      "See the caveats in the documentation: https://pandas.pydata.org/pandas-docs/stable/user_guide/indexing.html#returning-a-view-versus-a-copy\n",
      "  This is separate from the ipykernel package so we can avoid doing imports until\n"
     ]
    },
    {
     "data": {
      "text/plain": [
       "0      alfa-romero\n",
       "1      alfa-romero\n",
       "2      alfa-romero\n",
       "3             audi\n",
       "4             audi\n",
       "          ...     \n",
       "200          volvo\n",
       "201          volvo\n",
       "202          volvo\n",
       "203          volvo\n",
       "204          volvo\n",
       "Name: CarName, Length: 205, dtype: object"
      ]
     },
     "execution_count": 52,
     "metadata": {},
     "output_type": "execute_result"
    }
   ],
   "source": [
    "for i in range(len(df.iloc[:,0])):\n",
    "    list = df[\"CarName\"][i].split(\" \",1)\n",
    "    df[\"CarName\"][i] = list[0]\n",
    "    list = []\n",
    "df[\"CarName\"]\n",
    "    "
   ]
  },
  {
   "cell_type": "code",
   "execution_count": 53,
   "id": "2750b861",
   "metadata": {
    "execution": {
     "iopub.execute_input": "2023-01-01T19:27:45.083729Z",
     "iopub.status.busy": "2023-01-01T19:27:45.083254Z",
     "iopub.status.idle": "2023-01-01T19:27:45.114900Z",
     "shell.execute_reply": "2023-01-01T19:27:45.113240Z"
    },
    "papermill": {
     "duration": 0.064847,
     "end_time": "2023-01-01T19:27:45.117649",
     "exception": false,
     "start_time": "2023-01-01T19:27:45.052802",
     "status": "completed"
    },
    "tags": []
   },
   "outputs": [
    {
     "data": {
      "text/html": [
       "<div>\n",
       "<style scoped>\n",
       "    .dataframe tbody tr th:only-of-type {\n",
       "        vertical-align: middle;\n",
       "    }\n",
       "\n",
       "    .dataframe tbody tr th {\n",
       "        vertical-align: top;\n",
       "    }\n",
       "\n",
       "    .dataframe thead th {\n",
       "        text-align: right;\n",
       "    }\n",
       "</style>\n",
       "<table border=\"1\" class=\"dataframe\">\n",
       "  <thead>\n",
       "    <tr style=\"text-align: right;\">\n",
       "      <th></th>\n",
       "      <th>symboling</th>\n",
       "      <th>CarName</th>\n",
       "      <th>fueltype</th>\n",
       "      <th>aspiration</th>\n",
       "      <th>doornumber</th>\n",
       "      <th>carbody</th>\n",
       "      <th>drivewheel</th>\n",
       "      <th>enginelocation</th>\n",
       "      <th>wheelbase</th>\n",
       "      <th>carlength</th>\n",
       "      <th>carwidth</th>\n",
       "      <th>carheight</th>\n",
       "      <th>curbweight</th>\n",
       "      <th>enginetype</th>\n",
       "      <th>cylindernumber</th>\n",
       "      <th>enginesize</th>\n",
       "      <th>fuelsystem</th>\n",
       "      <th>boreratio</th>\n",
       "      <th>stroke</th>\n",
       "      <th>compressionratio</th>\n",
       "      <th>horsepower</th>\n",
       "      <th>peakrpm</th>\n",
       "      <th>citympg</th>\n",
       "      <th>highwaympg</th>\n",
       "      <th>price</th>\n",
       "    </tr>\n",
       "  </thead>\n",
       "  <tbody>\n",
       "    <tr>\n",
       "      <th>0</th>\n",
       "      <td>3</td>\n",
       "      <td>alfa-romero</td>\n",
       "      <td>gas</td>\n",
       "      <td>std</td>\n",
       "      <td>two</td>\n",
       "      <td>convertible</td>\n",
       "      <td>rwd</td>\n",
       "      <td>front</td>\n",
       "      <td>88.6</td>\n",
       "      <td>168.8</td>\n",
       "      <td>64.1</td>\n",
       "      <td>48.8</td>\n",
       "      <td>2548</td>\n",
       "      <td>dohc</td>\n",
       "      <td>four</td>\n",
       "      <td>130</td>\n",
       "      <td>mpfi</td>\n",
       "      <td>3.47</td>\n",
       "      <td>2.68</td>\n",
       "      <td>9.0</td>\n",
       "      <td>111</td>\n",
       "      <td>5000</td>\n",
       "      <td>21.0</td>\n",
       "      <td>27.0</td>\n",
       "      <td>13495.0</td>\n",
       "    </tr>\n",
       "    <tr>\n",
       "      <th>1</th>\n",
       "      <td>3</td>\n",
       "      <td>alfa-romero</td>\n",
       "      <td>gas</td>\n",
       "      <td>std</td>\n",
       "      <td>two</td>\n",
       "      <td>convertible</td>\n",
       "      <td>rwd</td>\n",
       "      <td>front</td>\n",
       "      <td>88.6</td>\n",
       "      <td>168.8</td>\n",
       "      <td>64.1</td>\n",
       "      <td>48.8</td>\n",
       "      <td>2548</td>\n",
       "      <td>dohc</td>\n",
       "      <td>four</td>\n",
       "      <td>130</td>\n",
       "      <td>mpfi</td>\n",
       "      <td>3.47</td>\n",
       "      <td>2.68</td>\n",
       "      <td>9.0</td>\n",
       "      <td>111</td>\n",
       "      <td>5000</td>\n",
       "      <td>21.0</td>\n",
       "      <td>27.0</td>\n",
       "      <td>16500.0</td>\n",
       "    </tr>\n",
       "    <tr>\n",
       "      <th>2</th>\n",
       "      <td>1</td>\n",
       "      <td>alfa-romero</td>\n",
       "      <td>gas</td>\n",
       "      <td>std</td>\n",
       "      <td>two</td>\n",
       "      <td>hatchback</td>\n",
       "      <td>rwd</td>\n",
       "      <td>front</td>\n",
       "      <td>94.5</td>\n",
       "      <td>171.2</td>\n",
       "      <td>65.5</td>\n",
       "      <td>52.4</td>\n",
       "      <td>2823</td>\n",
       "      <td>ohcv</td>\n",
       "      <td>six</td>\n",
       "      <td>152</td>\n",
       "      <td>mpfi</td>\n",
       "      <td>2.68</td>\n",
       "      <td>3.47</td>\n",
       "      <td>9.0</td>\n",
       "      <td>154</td>\n",
       "      <td>5000</td>\n",
       "      <td>19.0</td>\n",
       "      <td>26.0</td>\n",
       "      <td>16500.0</td>\n",
       "    </tr>\n",
       "    <tr>\n",
       "      <th>3</th>\n",
       "      <td>2</td>\n",
       "      <td>audi</td>\n",
       "      <td>gas</td>\n",
       "      <td>std</td>\n",
       "      <td>four</td>\n",
       "      <td>sedan</td>\n",
       "      <td>fwd</td>\n",
       "      <td>front</td>\n",
       "      <td>99.8</td>\n",
       "      <td>176.6</td>\n",
       "      <td>66.2</td>\n",
       "      <td>54.3</td>\n",
       "      <td>2337</td>\n",
       "      <td>ohc</td>\n",
       "      <td>four</td>\n",
       "      <td>109</td>\n",
       "      <td>mpfi</td>\n",
       "      <td>3.19</td>\n",
       "      <td>3.40</td>\n",
       "      <td>10.0</td>\n",
       "      <td>102</td>\n",
       "      <td>5500</td>\n",
       "      <td>24.0</td>\n",
       "      <td>30.0</td>\n",
       "      <td>13950.0</td>\n",
       "    </tr>\n",
       "    <tr>\n",
       "      <th>4</th>\n",
       "      <td>2</td>\n",
       "      <td>audi</td>\n",
       "      <td>gas</td>\n",
       "      <td>std</td>\n",
       "      <td>four</td>\n",
       "      <td>sedan</td>\n",
       "      <td>4wd</td>\n",
       "      <td>front</td>\n",
       "      <td>99.4</td>\n",
       "      <td>176.6</td>\n",
       "      <td>66.4</td>\n",
       "      <td>54.3</td>\n",
       "      <td>2824</td>\n",
       "      <td>ohc</td>\n",
       "      <td>five</td>\n",
       "      <td>136</td>\n",
       "      <td>mpfi</td>\n",
       "      <td>3.19</td>\n",
       "      <td>3.40</td>\n",
       "      <td>8.0</td>\n",
       "      <td>115</td>\n",
       "      <td>5500</td>\n",
       "      <td>18.0</td>\n",
       "      <td>22.0</td>\n",
       "      <td>17450.0</td>\n",
       "    </tr>\n",
       "  </tbody>\n",
       "</table>\n",
       "</div>"
      ],
      "text/plain": [
       "   symboling      CarName fueltype aspiration doornumber      carbody  \\\n",
       "0          3  alfa-romero      gas        std        two  convertible   \n",
       "1          3  alfa-romero      gas        std        two  convertible   \n",
       "2          1  alfa-romero      gas        std        two    hatchback   \n",
       "3          2         audi      gas        std       four        sedan   \n",
       "4          2         audi      gas        std       four        sedan   \n",
       "\n",
       "  drivewheel enginelocation  wheelbase  carlength  carwidth  carheight  \\\n",
       "0        rwd          front       88.6      168.8      64.1       48.8   \n",
       "1        rwd          front       88.6      168.8      64.1       48.8   \n",
       "2        rwd          front       94.5      171.2      65.5       52.4   \n",
       "3        fwd          front       99.8      176.6      66.2       54.3   \n",
       "4        4wd          front       99.4      176.6      66.4       54.3   \n",
       "\n",
       "   curbweight enginetype cylindernumber  enginesize fuelsystem  boreratio  \\\n",
       "0        2548       dohc           four         130       mpfi       3.47   \n",
       "1        2548       dohc           four         130       mpfi       3.47   \n",
       "2        2823       ohcv            six         152       mpfi       2.68   \n",
       "3        2337        ohc           four         109       mpfi       3.19   \n",
       "4        2824        ohc           five         136       mpfi       3.19   \n",
       "\n",
       "   stroke  compressionratio  horsepower  peakrpm  citympg  highwaympg    price  \n",
       "0    2.68               9.0         111     5000     21.0        27.0  13495.0  \n",
       "1    2.68               9.0         111     5000     21.0        27.0  16500.0  \n",
       "2    3.47               9.0         154     5000     19.0        26.0  16500.0  \n",
       "3    3.40              10.0         102     5500     24.0        30.0  13950.0  \n",
       "4    3.40               8.0         115     5500     18.0        22.0  17450.0  "
      ]
     },
     "execution_count": 53,
     "metadata": {},
     "output_type": "execute_result"
    }
   ],
   "source": [
    "df.head()"
   ]
  },
  {
   "cell_type": "code",
   "execution_count": 54,
   "id": "3411f2d6",
   "metadata": {
    "execution": {
     "iopub.execute_input": "2023-01-01T19:27:45.178380Z",
     "iopub.status.busy": "2023-01-01T19:27:45.177633Z",
     "iopub.status.idle": "2023-01-01T19:27:45.229839Z",
     "shell.execute_reply": "2023-01-01T19:27:45.228530Z"
    },
    "papermill": {
     "duration": 0.085127,
     "end_time": "2023-01-01T19:27:45.232264",
     "exception": false,
     "start_time": "2023-01-01T19:27:45.147137",
     "status": "completed"
    },
    "tags": []
   },
   "outputs": [
    {
     "name": "stderr",
     "output_type": "stream",
     "text": [
      "/opt/conda/lib/python3.7/site-packages/ipykernel_launcher.py:3: DeprecationWarning: `np.object` is a deprecated alias for the builtin `object`. To silence this warning, use `object` by itself. Doing this will not modify any behavior and is safe. \n",
      "Deprecated in NumPy 1.20; for more details and guidance: https://numpy.org/devdocs/release/1.20.0-notes.html#deprecations\n",
      "  This is separate from the ipykernel package so we can avoid doing imports until\n"
     ]
    },
    {
     "data": {
      "text/html": [
       "<div>\n",
       "<style scoped>\n",
       "    .dataframe tbody tr th:only-of-type {\n",
       "        vertical-align: middle;\n",
       "    }\n",
       "\n",
       "    .dataframe tbody tr th {\n",
       "        vertical-align: top;\n",
       "    }\n",
       "\n",
       "    .dataframe thead th {\n",
       "        text-align: right;\n",
       "    }\n",
       "</style>\n",
       "<table border=\"1\" class=\"dataframe\">\n",
       "  <thead>\n",
       "    <tr style=\"text-align: right;\">\n",
       "      <th></th>\n",
       "      <th>symboling</th>\n",
       "      <th>CarName</th>\n",
       "      <th>fueltype</th>\n",
       "      <th>aspiration</th>\n",
       "      <th>doornumber</th>\n",
       "      <th>carbody</th>\n",
       "      <th>drivewheel</th>\n",
       "      <th>enginelocation</th>\n",
       "      <th>wheelbase</th>\n",
       "      <th>carlength</th>\n",
       "      <th>carwidth</th>\n",
       "      <th>carheight</th>\n",
       "      <th>curbweight</th>\n",
       "      <th>enginetype</th>\n",
       "      <th>cylindernumber</th>\n",
       "      <th>enginesize</th>\n",
       "      <th>fuelsystem</th>\n",
       "      <th>boreratio</th>\n",
       "      <th>stroke</th>\n",
       "      <th>compressionratio</th>\n",
       "      <th>horsepower</th>\n",
       "      <th>peakrpm</th>\n",
       "      <th>citympg</th>\n",
       "      <th>highwaympg</th>\n",
       "      <th>price</th>\n",
       "    </tr>\n",
       "  </thead>\n",
       "  <tbody>\n",
       "    <tr>\n",
       "      <th>0</th>\n",
       "      <td>3</td>\n",
       "      <td>0.0</td>\n",
       "      <td>0.0</td>\n",
       "      <td>1.0</td>\n",
       "      <td>0.0</td>\n",
       "      <td>1.0</td>\n",
       "      <td>0.0</td>\n",
       "      <td>1.0</td>\n",
       "      <td>88.6</td>\n",
       "      <td>168.8</td>\n",
       "      <td>64.1</td>\n",
       "      <td>48.8</td>\n",
       "      <td>2548</td>\n",
       "      <td>1.0</td>\n",
       "      <td>0.0</td>\n",
       "      <td>130</td>\n",
       "      <td>0.0</td>\n",
       "      <td>3.47</td>\n",
       "      <td>2.68</td>\n",
       "      <td>9.0</td>\n",
       "      <td>111</td>\n",
       "      <td>5000</td>\n",
       "      <td>21.0</td>\n",
       "      <td>27.0</td>\n",
       "      <td>13495.0</td>\n",
       "    </tr>\n",
       "    <tr>\n",
       "      <th>1</th>\n",
       "      <td>3</td>\n",
       "      <td>0.0</td>\n",
       "      <td>0.0</td>\n",
       "      <td>1.0</td>\n",
       "      <td>0.0</td>\n",
       "      <td>1.0</td>\n",
       "      <td>0.0</td>\n",
       "      <td>1.0</td>\n",
       "      <td>88.6</td>\n",
       "      <td>168.8</td>\n",
       "      <td>64.1</td>\n",
       "      <td>48.8</td>\n",
       "      <td>2548</td>\n",
       "      <td>1.0</td>\n",
       "      <td>0.0</td>\n",
       "      <td>130</td>\n",
       "      <td>0.0</td>\n",
       "      <td>3.47</td>\n",
       "      <td>2.68</td>\n",
       "      <td>9.0</td>\n",
       "      <td>111</td>\n",
       "      <td>5000</td>\n",
       "      <td>21.0</td>\n",
       "      <td>27.0</td>\n",
       "      <td>16500.0</td>\n",
       "    </tr>\n",
       "    <tr>\n",
       "      <th>2</th>\n",
       "      <td>1</td>\n",
       "      <td>0.0</td>\n",
       "      <td>0.0</td>\n",
       "      <td>1.0</td>\n",
       "      <td>0.0</td>\n",
       "      <td>0.0</td>\n",
       "      <td>0.0</td>\n",
       "      <td>1.0</td>\n",
       "      <td>94.5</td>\n",
       "      <td>171.2</td>\n",
       "      <td>65.5</td>\n",
       "      <td>52.4</td>\n",
       "      <td>2823</td>\n",
       "      <td>0.0</td>\n",
       "      <td>0.0</td>\n",
       "      <td>152</td>\n",
       "      <td>0.0</td>\n",
       "      <td>2.68</td>\n",
       "      <td>3.47</td>\n",
       "      <td>9.0</td>\n",
       "      <td>154</td>\n",
       "      <td>5000</td>\n",
       "      <td>19.0</td>\n",
       "      <td>26.0</td>\n",
       "      <td>16500.0</td>\n",
       "    </tr>\n",
       "    <tr>\n",
       "      <th>3</th>\n",
       "      <td>2</td>\n",
       "      <td>0.0</td>\n",
       "      <td>0.0</td>\n",
       "      <td>1.0</td>\n",
       "      <td>1.0</td>\n",
       "      <td>0.0</td>\n",
       "      <td>0.0</td>\n",
       "      <td>1.0</td>\n",
       "      <td>99.8</td>\n",
       "      <td>176.6</td>\n",
       "      <td>66.2</td>\n",
       "      <td>54.3</td>\n",
       "      <td>2337</td>\n",
       "      <td>0.0</td>\n",
       "      <td>0.0</td>\n",
       "      <td>109</td>\n",
       "      <td>0.0</td>\n",
       "      <td>3.19</td>\n",
       "      <td>3.40</td>\n",
       "      <td>10.0</td>\n",
       "      <td>102</td>\n",
       "      <td>5500</td>\n",
       "      <td>24.0</td>\n",
       "      <td>30.0</td>\n",
       "      <td>13950.0</td>\n",
       "    </tr>\n",
       "    <tr>\n",
       "      <th>4</th>\n",
       "      <td>2</td>\n",
       "      <td>0.0</td>\n",
       "      <td>0.0</td>\n",
       "      <td>1.0</td>\n",
       "      <td>1.0</td>\n",
       "      <td>0.0</td>\n",
       "      <td>1.0</td>\n",
       "      <td>1.0</td>\n",
       "      <td>99.4</td>\n",
       "      <td>176.6</td>\n",
       "      <td>66.4</td>\n",
       "      <td>54.3</td>\n",
       "      <td>2824</td>\n",
       "      <td>0.0</td>\n",
       "      <td>0.0</td>\n",
       "      <td>136</td>\n",
       "      <td>0.0</td>\n",
       "      <td>3.19</td>\n",
       "      <td>3.40</td>\n",
       "      <td>8.0</td>\n",
       "      <td>115</td>\n",
       "      <td>5500</td>\n",
       "      <td>18.0</td>\n",
       "      <td>22.0</td>\n",
       "      <td>17450.0</td>\n",
       "    </tr>\n",
       "  </tbody>\n",
       "</table>\n",
       "</div>"
      ],
      "text/plain": [
       "   symboling  CarName  fueltype  aspiration  doornumber  carbody  drivewheel  \\\n",
       "0          3      0.0       0.0         1.0         0.0      1.0         0.0   \n",
       "1          3      0.0       0.0         1.0         0.0      1.0         0.0   \n",
       "2          1      0.0       0.0         1.0         0.0      0.0         0.0   \n",
       "3          2      0.0       0.0         1.0         1.0      0.0         0.0   \n",
       "4          2      0.0       0.0         1.0         1.0      0.0         1.0   \n",
       "\n",
       "   enginelocation  wheelbase  carlength  carwidth  carheight  curbweight  \\\n",
       "0             1.0       88.6      168.8      64.1       48.8        2548   \n",
       "1             1.0       88.6      168.8      64.1       48.8        2548   \n",
       "2             1.0       94.5      171.2      65.5       52.4        2823   \n",
       "3             1.0       99.8      176.6      66.2       54.3        2337   \n",
       "4             1.0       99.4      176.6      66.4       54.3        2824   \n",
       "\n",
       "   enginetype  cylindernumber  enginesize  fuelsystem  boreratio  stroke  \\\n",
       "0         1.0             0.0         130         0.0       3.47    2.68   \n",
       "1         1.0             0.0         130         0.0       3.47    2.68   \n",
       "2         0.0             0.0         152         0.0       2.68    3.47   \n",
       "3         0.0             0.0         109         0.0       3.19    3.40   \n",
       "4         0.0             0.0         136         0.0       3.19    3.40   \n",
       "\n",
       "   compressionratio  horsepower  peakrpm  citympg  highwaympg    price  \n",
       "0               9.0         111     5000     21.0        27.0  13495.0  \n",
       "1               9.0         111     5000     21.0        27.0  16500.0  \n",
       "2               9.0         154     5000     19.0        26.0  16500.0  \n",
       "3              10.0         102     5500     24.0        30.0  13950.0  \n",
       "4               8.0         115     5500     18.0        22.0  17450.0  "
      ]
     },
     "execution_count": 54,
     "metadata": {},
     "output_type": "execute_result"
    }
   ],
   "source": [
    "LabEnc = {}\n",
    "\n",
    "df_cat = df.select_dtypes(include = [np.object])\n",
    "for i in df_cat:\n",
    "    LabEnc[i] = OneHotEncoder()\n",
    "    df[i] = LabEnc[i].fit_transform(df[i].values.reshape(-1, 1)).toarray()\n",
    "    \n",
    "df.head()"
   ]
  },
  {
   "cell_type": "code",
   "execution_count": 55,
   "id": "c55ae764",
   "metadata": {
    "execution": {
     "iopub.execute_input": "2023-01-01T19:27:45.291417Z",
     "iopub.status.busy": "2023-01-01T19:27:45.290876Z",
     "iopub.status.idle": "2023-01-01T19:27:45.307945Z",
     "shell.execute_reply": "2023-01-01T19:27:45.306679Z"
    },
    "papermill": {
     "duration": 0.049508,
     "end_time": "2023-01-01T19:27:45.310429",
     "exception": false,
     "start_time": "2023-01-01T19:27:45.260921",
     "status": "completed"
    },
    "tags": []
   },
   "outputs": [
    {
     "name": "stdout",
     "output_type": "stream",
     "text": [
      "<class 'pandas.core.frame.DataFrame'>\n",
      "RangeIndex: 205 entries, 0 to 204\n",
      "Data columns (total 25 columns):\n",
      " #   Column            Non-Null Count  Dtype  \n",
      "---  ------            --------------  -----  \n",
      " 0   symboling         205 non-null    int64  \n",
      " 1   CarName           205 non-null    float64\n",
      " 2   fueltype          205 non-null    float64\n",
      " 3   aspiration        205 non-null    float64\n",
      " 4   doornumber        205 non-null    float64\n",
      " 5   carbody           205 non-null    float64\n",
      " 6   drivewheel        205 non-null    float64\n",
      " 7   enginelocation    205 non-null    float64\n",
      " 8   wheelbase         205 non-null    float64\n",
      " 9   carlength         205 non-null    float64\n",
      " 10  carwidth          205 non-null    float64\n",
      " 11  carheight         205 non-null    float64\n",
      " 12  curbweight        205 non-null    int64  \n",
      " 13  enginetype        205 non-null    float64\n",
      " 14  cylindernumber    205 non-null    float64\n",
      " 15  enginesize        205 non-null    int64  \n",
      " 16  fuelsystem        205 non-null    float64\n",
      " 17  boreratio         205 non-null    float64\n",
      " 18  stroke            205 non-null    float64\n",
      " 19  compressionratio  205 non-null    float64\n",
      " 20  horsepower        205 non-null    int64  \n",
      " 21  peakrpm           205 non-null    int64  \n",
      " 22  citympg           205 non-null    float64\n",
      " 23  highwaympg        205 non-null    float64\n",
      " 24  price             205 non-null    float64\n",
      "dtypes: float64(20), int64(5)\n",
      "memory usage: 40.2 KB\n"
     ]
    }
   ],
   "source": [
    "df.info(verbose=True)"
   ]
  },
  {
   "attachments": {},
   "cell_type": "markdown",
   "id": "38b80b95",
   "metadata": {
    "papermill": {
     "duration": 0.028442,
     "end_time": "2023-01-01T19:27:45.367552",
     "exception": false,
     "start_time": "2023-01-01T19:27:45.339110",
     "status": "completed"
    },
    "tags": []
   },
   "source": [
    "MODELING"
   ]
  },
  {
   "cell_type": "code",
   "execution_count": 56,
   "id": "ebb74077",
   "metadata": {
    "execution": {
     "iopub.execute_input": "2023-01-01T19:27:45.427716Z",
     "iopub.status.busy": "2023-01-01T19:27:45.427342Z",
     "iopub.status.idle": "2023-01-01T19:27:45.545312Z",
     "shell.execute_reply": "2023-01-01T19:27:45.543664Z"
    },
    "papermill": {
     "duration": 0.150467,
     "end_time": "2023-01-01T19:27:45.547568",
     "exception": true,
     "start_time": "2023-01-01T19:27:45.397101",
     "status": "failed"
    },
    "tags": []
   },
   "outputs": [
    {
     "ename": "NameError",
     "evalue": "name 'train_test_split' is not defined",
     "output_type": "error",
     "traceback": [
      "\u001b[0;31m---------------------------------------------------------------------------\u001b[0m",
      "\u001b[0;31mNameError\u001b[0m                                 Traceback (most recent call last)",
      "\u001b[0;32m/tmp/ipykernel_19/3108364332.py\u001b[0m in \u001b[0;36m<module>\u001b[0;34m\u001b[0m\n\u001b[1;32m      3\u001b[0m \u001b[0;34m\u001b[0m\u001b[0m\n\u001b[1;32m      4\u001b[0m \u001b[0;31m# split the data train and test\u001b[0m\u001b[0;34m\u001b[0m\u001b[0;34m\u001b[0m\u001b[0;34m\u001b[0m\u001b[0m\n\u001b[0;32m----> 5\u001b[0;31m \u001b[0mx_train\u001b[0m\u001b[0;34m,\u001b[0m \u001b[0mx_test\u001b[0m\u001b[0;34m,\u001b[0m \u001b[0my_train\u001b[0m\u001b[0;34m,\u001b[0m \u001b[0my_test\u001b[0m \u001b[0;34m=\u001b[0m \u001b[0mtrain_test_split\u001b[0m\u001b[0;34m(\u001b[0m\u001b[0mx\u001b[0m\u001b[0;34m,\u001b[0m \u001b[0my\u001b[0m\u001b[0;34m,\u001b[0m \u001b[0mtest_size\u001b[0m\u001b[0;34m=\u001b[0m\u001b[0;36m0.15\u001b[0m\u001b[0;34m,\u001b[0m \u001b[0mrandom_state\u001b[0m\u001b[0;34m=\u001b[0m\u001b[0;36m42\u001b[0m\u001b[0;34m)\u001b[0m\u001b[0;34m\u001b[0m\u001b[0;34m\u001b[0m\u001b[0m\n\u001b[0m",
      "\u001b[0;31mNameError\u001b[0m: name 'train_test_split' is not defined"
     ]
    }
   ],
   "source": [
    "x = df.drop([\"price\"],axis = 1)           \n",
    "y = df[\"price\"]    \n",
    "\n",
    "# split the data train and test\n",
    "x_train, x_test, y_train, y_test = train_test_split(x, y, test_size=0.15, random_state=42)"
   ]
  },
  {
   "cell_type": "code",
   "execution_count": null,
   "id": "a390864d",
   "metadata": {
    "execution": {
     "iopub.execute_input": "2023-01-01T19:20:55.547067Z",
     "iopub.status.busy": "2023-01-01T19:20:55.546666Z",
     "iopub.status.idle": "2023-01-01T19:20:55.553506Z",
     "shell.execute_reply": "2023-01-01T19:20:55.552338Z",
     "shell.execute_reply.started": "2023-01-01T19:20:55.547021Z"
    },
    "papermill": {
     "duration": null,
     "end_time": null,
     "exception": null,
     "start_time": null,
     "status": "pending"
    },
    "tags": []
   },
   "outputs": [],
   "source": [
    "print(\"X Train : \", x_train.shape)\n",
    "print(\"X Test  : \", x_test.shape)\n",
    "print(\"Y Train : \", y_train.shape)\n",
    "print(\"Y Test  : \", y_test.shape)"
   ]
  },
  {
   "cell_type": "code",
   "execution_count": null,
   "id": "2fb477ef",
   "metadata": {
    "execution": {
     "iopub.execute_input": "2023-01-01T19:21:02.371598Z",
     "iopub.status.busy": "2023-01-01T19:21:02.370869Z",
     "iopub.status.idle": "2023-01-01T19:21:02.392281Z",
     "shell.execute_reply": "2023-01-01T19:21:02.390855Z",
     "shell.execute_reply.started": "2023-01-01T19:21:02.371561Z"
    },
    "papermill": {
     "duration": null,
     "end_time": null,
     "exception": null,
     "start_time": null,
     "status": "pending"
    },
    "tags": []
   },
   "outputs": [],
   "source": [
    "LR = LinearRegression()\n",
    "XGBR = XGBRegressor()\n",
    "SVR = SVR()\n"
   ]
  },
  {
   "cell_type": "code",
   "execution_count": null,
   "id": "7d6c7852",
   "metadata": {
    "execution": {
     "iopub.execute_input": "2023-01-01T19:21:06.080295Z",
     "iopub.status.busy": "2023-01-01T19:21:06.079845Z",
     "iopub.status.idle": "2023-01-01T19:21:06.464938Z",
     "shell.execute_reply": "2023-01-01T19:21:06.462947Z",
     "shell.execute_reply.started": "2023-01-01T19:21:06.080259Z"
    },
    "papermill": {
     "duration": null,
     "end_time": null,
     "exception": null,
     "start_time": null,
     "status": "pending"
    },
    "tags": []
   },
   "outputs": [],
   "source": [
    "models = [LR,XGBR,SVR]\n",
    "for i in models:\n",
    "    print(i)\n",
    "    i.fit(x_train,y_train)\n",
    "    \n",
    "    print(\"test\")\n",
    "    print(i,\"score is :\",r2_score(y_test,i.predict(x_test)),mean_absolute_error(y_test,i.predict(x_test)))\n",
    "    \n",
    "    print(\"train\")\n",
    "    print(i,\"score is :\",r2_score(y_train,i.predict(x_train)),mean_absolute_error(y_train,i.predict(x_train)))\n",
    "    print(\"   \")\n",
    "    print(\"   \")\n",
    "    print(\"   \")"
   ]
  },
  {
   "cell_type": "code",
   "execution_count": null,
   "id": "b034ff9b",
   "metadata": {
    "execution": {
     "iopub.execute_input": "2023-01-01T19:26:42.620767Z",
     "iopub.status.busy": "2023-01-01T19:26:42.620366Z",
     "iopub.status.idle": "2023-01-01T19:26:42.657531Z",
     "shell.execute_reply": "2023-01-01T19:26:42.656122Z",
     "shell.execute_reply.started": "2023-01-01T19:26:42.620725Z"
    },
    "papermill": {
     "duration": null,
     "end_time": null,
     "exception": null,
     "start_time": null,
     "status": "pending"
    },
    "tags": []
   },
   "outputs": [],
   "source": [
    "Table = pd.DataFrame({\"y\":round(y_test[0:20]),\"prediction\":XGBR.predict(x_test)[0:20].round(),\"difference\":round(y_test[0:20]- XGBR.predict(x_test)[0:20])})\n",
    "Table"
   ]
  },
  {
   "cell_type": "code",
   "execution_count": null,
   "id": "1fdbb2d4",
   "metadata": {
    "execution": {
     "iopub.execute_input": "2023-01-01T19:08:56.119480Z",
     "iopub.status.busy": "2023-01-01T19:08:56.118365Z",
     "iopub.status.idle": "2023-01-01T19:08:56.123770Z",
     "shell.execute_reply": "2023-01-01T19:08:56.122844Z",
     "shell.execute_reply.started": "2023-01-01T19:08:56.119441Z"
    },
    "papermill": {
     "duration": null,
     "end_time": null,
     "exception": null,
     "start_time": null,
     "status": "pending"
    },
    "tags": []
   },
   "outputs": [],
   "source": [
    "#XGB = 0.9663621354321177  on TEST \n",
    "#XGB = 0.9985726419765655   on TRAIN\n"
   ]
  },
  {
   "cell_type": "code",
   "execution_count": null,
   "id": "a7354f9f",
   "metadata": {
    "papermill": {
     "duration": null,
     "end_time": null,
     "exception": null,
     "start_time": null,
     "status": "pending"
    },
    "tags": []
   },
   "outputs": [],
   "source": []
  }
 ],
 "metadata": {
  "kernelspec": {
   "display_name": "Python 3",
   "language": "python",
   "name": "python3"
  },
  "language_info": {
   "codemirror_mode": {
    "name": "ipython",
    "version": 3
   },
   "file_extension": ".py",
   "mimetype": "text/x-python",
   "name": "python",
   "nbconvert_exporter": "python",
   "pygments_lexer": "ipython3",
   "version": "3.7.12"
  },
  "papermill": {
   "default_parameters": {},
   "duration": 34.754163,
   "end_time": "2023-01-01T19:27:46.500735",
   "environment_variables": {},
   "exception": true,
   "input_path": "__notebook__.ipynb",
   "output_path": "__notebook__.ipynb",
   "parameters": {},
   "start_time": "2023-01-01T19:27:11.746572",
   "version": "2.3.4"
  }
 },
 "nbformat": 4,
 "nbformat_minor": 5
}
